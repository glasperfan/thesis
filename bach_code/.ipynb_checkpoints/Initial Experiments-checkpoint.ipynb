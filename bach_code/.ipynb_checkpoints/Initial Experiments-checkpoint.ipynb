{
 "cells": [
  {
   "cell_type": "markdown",
   "metadata": {},
   "source": [
    "## Sklearn on the full dataset"
   ]
  },
  {
   "cell_type": "code",
   "execution_count": 20,
   "metadata": {
    "collapsed": true
   },
   "outputs": [],
   "source": [
    "import h5py\n",
    "import numpy\n",
    "from sklearn import linear_model\n",
    "from sklearn.preprocessing import OneHotEncoder"
   ]
  },
  {
   "cell_type": "code",
   "execution_count": 12,
   "metadata": {
    "collapsed": false
   },
   "outputs": [
    {
     "data": {
      "text/plain": [
       "((18788, 10), (20773, 10))"
      ]
     },
     "execution_count": 12,
     "metadata": {},
     "output_type": "execute_result"
    }
   ],
   "source": [
    "with h5py.File('data/chorales.hdf5', \"r\", libver='latest') as f:\n",
    "    Xtrain = f['Xtrain'].value\n",
    "    ytrain = f['ytrain'].value\n",
    "    Xdev = f['Xdev'].value\n",
    "    ydev = f['ydev'].value\n",
    "    Xtest = f['Xtest'].value\n",
    "    ytest = f['ytest'].value\n",
    "\n",
    "Xtrain, Xdev, Xtest = Xtrain[:, range(10)], Xdev[:, range(10)], Xtest[:, range(10)]\n",
    "Xtrain = numpy.vstack((Xtrain, Xdev))\n",
    "Xall = numpy.vstack((Xtrain, Xtest))\n",
    "\n",
    "with h5py.File('data/chorales_sm.hdf5', \"r\", libver='latest') as f:\n",
    "    ytrain = f['ytrainfeat'].value\n",
    "    ytest = f['ytestfeat'].value\n",
    "    yall = f['yallfeat'].value\n",
    "\n",
    "Xtrain.shape, Xall.shape"
   ]
  },
  {
   "cell_type": "code",
   "execution_count": 13,
   "metadata": {
    "collapsed": false
   },
   "outputs": [],
   "source": [
    "Xtestex, ytestex = [], []\n",
    "assert len(Xtest) == len(ytest)\n",
    "for idx, x in enumerate(ytest):\n",
    "    if x in ytrain:\n",
    "        Xtestex.append(Xtest[idx])\n",
    "        ytestex.append(ytest[idx])\n",
    "Xtestex = numpy.matrix(Xtestex)\n",
    "ytestex = numpy.array(ytestex)"
   ]
  },
  {
   "cell_type": "code",
   "execution_count": 16,
   "metadata": {
    "collapsed": false
   },
   "outputs": [],
   "source": [
    "logistic = linear_model.LogisticRegression(multi_class='multinomial', solver='lbfgs', C=1000)\n",
    "encoder = OneHotEncoder()\n",
    "encoder.fit(Xall)\n",
    "Xtrainsparse = encoder.transform(Xtrain)\n",
    "Xtestsparse = encoder.transform(Xtest)\n",
    "Xtestexsparse = encoder.transform(Xtestex)"
   ]
  },
  {
   "cell_type": "code",
   "execution_count": 48,
   "metadata": {
    "collapsed": false
   },
   "outputs": [
    {
     "data": {
      "text/plain": [
       "LogisticRegression(C=1000, class_weight=None, dual=False, fit_intercept=True,\n",
       "          intercept_scaling=1, max_iter=100, multi_class='multinomial',\n",
       "          penalty='l2', random_state=None, solver='lbfgs', tol=0.0001,\n",
       "          verbose=0)"
      ]
     },
     "execution_count": 48,
     "metadata": {},
     "output_type": "execute_result"
    }
   ],
   "source": [
    "logistic.fit(Xtrainsparse, ytrain)"
   ]
  },
  {
   "cell_type": "code",
   "execution_count": 49,
   "metadata": {
    "collapsed": false
   },
   "outputs": [
    {
     "data": {
      "text/plain": [
       "0.59724292101341281"
      ]
     },
     "execution_count": 49,
     "metadata": {},
     "output_type": "execute_result"
    }
   ],
   "source": [
    "logistic.score(Xtrainsparse, ytrain)"
   ]
  },
  {
   "cell_type": "code",
   "execution_count": 50,
   "metadata": {
    "collapsed": false
   },
   "outputs": [
    {
     "data": {
      "text/plain": [
       "0.2554156171284635"
      ]
     },
     "execution_count": 50,
     "metadata": {},
     "output_type": "execute_result"
    }
   ],
   "source": [
    "logistic.score(Xtestsparse, ytest)"
   ]
  },
  {
   "cell_type": "code",
   "execution_count": 51,
   "metadata": {
    "collapsed": false
   },
   "outputs": [
    {
     "data": {
      "text/plain": [
       "0.27011188066062869"
      ]
     },
     "execution_count": 51,
     "metadata": {},
     "output_type": "execute_result"
    }
   ],
   "source": [
    "logistic.score(Xtestexsparse, ytestex)"
   ]
  },
  {
   "cell_type": "code",
   "execution_count": 18,
   "metadata": {
    "collapsed": false
   },
   "outputs": [
    {
     "name": "stdout",
     "output_type": "stream",
     "text": [
      "0.89360229934\n",
      "0.291687657431\n",
      "0.308470964305\n"
     ]
    }
   ],
   "source": [
    "from sklearn.ensemble import RandomForestClassifier\n",
    "RF = RandomForestClassifier(10, \"entropy\")\n",
    "RF.fit(Xtrainsparse,ytrain)\n",
    "print RF.score(Xtrainsparse, ytrain)\n",
    "print RF.score(Xtestsparse, ytest)\n",
    "print RF.score(Xtestexsparse, ytestex)"
   ]
  },
  {
   "cell_type": "code",
   "execution_count": 91,
   "metadata": {
    "collapsed": true
   },
   "outputs": [],
   "source": [
    "%matplotlib inline\n",
    "import numpy as np\n",
    "import scipy as sp\n",
    "import matplotlib as mpl\n",
    "import matplotlib.cm as cm\n",
    "import matplotlib.pyplot as plt\n",
    "\n",
    "def plotNLLandConfidence(filename):\n",
    "    with open(filename, 'r') as f:\n",
    "        lines = f.readlines()\n",
    "    formatted = map(lambda x: x[:-2] if '\\t\\n' in x else x[:-1], lines)\n",
    "    formatted = [map(float, x.split('\\t')) for x in formatted]\n",
    "    nll = [x[0] for x in formatted]\n",
    "    per = [x[1] for x in formatted]\n",
    "    fig, ax = plt.subplots(1, 2, figsize=(10,5))\n",
    "    fig.tight_layout()\n",
    "    ax[0].hist(per)\n",
    "    ax[0].set_xlabel(\"Probability assigned to the correct decision\")\n",
    "    ax[1].hist(nll)\n",
    "    ax[1].set_xlabel(\"NLL of the parameters given each outcome in the test set\")\n",
    "    plt.show()"
   ]
  },
  {
   "cell_type": "code",
   "execution_count": 92,
   "metadata": {
    "collapsed": false
   },
   "outputs": [
    {
     "data": {
      "image/png": "[encoded data removed]",
      "text/plain": [
       "<matplotlib.figure.Figure at 0x11a462ad0>"
      ]
     },
     "metadata": {},
     "output_type": "display_data"
    }
   ],
   "source": [
    "plotNLLandConfidence(\"smerror.txt\")"
   ]
  },
  {
   "cell_type": "code",
   "execution_count": 94,
   "metadata": {
    "collapsed": false
   },
   "outputs": [
    {
     "data": {
      "image/png": "[encoded data removed]",
      "text/plain": [
       "<matplotlib.figure.Figure at 0x11a5a6c10>"
      ]
     },
     "metadata": {},
     "output_type": "display_data"
    }
   ],
   "source": [
    "plotNLLandConfidence(\"smerror_train.txt\")"
   ]
  }
 ],
 "metadata": {
  "kernelspec": {
   "display_name": "Python 2",
   "language": "python",
   "name": "python2"
  },
  "language_info": {
   "codemirror_mode": {
    "name": "ipython",
    "version": 2
   },
   "file_extension": ".py",
   "mimetype": "text/x-python",
   "name": "python",
   "nbconvert_exporter": "python",
   "pygments_lexer": "ipython2",
   "version": "2.7.10"
  }
 },
 "nbformat": 4,
 "nbformat_minor": 0
}
