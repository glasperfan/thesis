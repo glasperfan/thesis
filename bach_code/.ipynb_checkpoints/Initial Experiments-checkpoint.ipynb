{
 "cells": [
  {
   "cell_type": "code",
   "execution_count": 2,
   "metadata": {
    "collapsed": false
   },
   "outputs": [],
   "source": [
    "from sklearn import linear_model\n",
    "from sklearn.preprocessing import OneHotEncoder"
   ]
  },
  {
   "cell_type": "code",
   "execution_count": 3,
   "metadata": {
    "collapsed": true
   },
   "outputs": [],
   "source": [
    "import h5py\n",
    "import numpy\n",
    "from collections import Counter"
   ]
  },
  {
   "cell_type": "markdown",
   "metadata": {},
   "source": [
    "# Numeral experiments"
   ]
  },
  {
   "cell_type": "code",
   "execution_count": 92,
   "metadata": {
    "collapsed": false
   },
   "outputs": [],
   "source": [
    "with h5py.File('data/chorales.hdf5', \"r\", libver='latest') as f:\n",
    "    Xtrain = f['Xtrain'].value\n",
    "    ytrain = f['ytrain'].value\n",
    "    Xtest = f['Xtest'].value\n",
    "    ytest = f['ytest'].value"
   ]
  },
  {
   "cell_type": "code",
   "execution_count": 94,
   "metadata": {
    "collapsed": false
   },
   "outputs": [
    {
     "data": {
      "text/plain": [
       "array([[  1,  11,  13, ..., 203, 278, 294],\n",
       "       [  1,  11,  13, ..., 202, 224, 279],\n",
       "       [  1,  11,  13, ..., 205, 232, 279],\n",
       "       ..., \n",
       "       [  5,  10,  12, ..., 202, 226, 280],\n",
       "       [  5,  10,  12, ..., 205, 224, 279],\n",
       "       [  5,  10,  12, ..., 201, 226, 287]], dtype=int32)"
      ]
     },
     "execution_count": 94,
     "metadata": {},
     "output_type": "execute_result"
    }
   ],
   "source": [
    "Xtrain"
   ]
  },
  {
   "cell_type": "code",
   "execution_count": 95,
   "metadata": {
    "collapsed": false
   },
   "outputs": [
    {
     "data": {
      "text/plain": [
       "array([  1,  11,  13,  16,  27, 125, 154, 161, 178, 203, 278, 294], dtype=int32)"
      ]
     },
     "execution_count": 95,
     "metadata": {},
     "output_type": "execute_result"
    }
   ],
   "source": [
    "Xtrain[0]"
   ]
  },
  {
   "cell_type": "code",
   "execution_count": 96,
   "metadata": {
    "collapsed": false
   },
   "outputs": [
    {
     "data": {
      "text/plain": [
       "array([[ 1,  1,  3,  4],\n",
       "       [ 9,  1,  3,  5],\n",
       "       [ 1,  5,  2,  4],\n",
       "       ..., \n",
       "       [ 1,  1,  7, 15],\n",
       "       [ 3,  9, 13,  3],\n",
       "       [ 3,  4,  1, 13]], dtype=int32)"
      ]
     },
     "execution_count": 96,
     "metadata": {},
     "output_type": "execute_result"
    }
   ],
   "source": [
    "ytrain"
   ]
  },
  {
   "cell_type": "code",
   "execution_count": 97,
   "metadata": {
    "collapsed": true
   },
   "outputs": [],
   "source": [
    "logistic = linear_model.LogisticRegression(multi_class='multinomial', solver='lbfgs')"
   ]
  },
  {
   "cell_type": "code",
   "execution_count": 65,
   "metadata": {
    "collapsed": false
   },
   "outputs": [],
   "source": [
    "Xtrain = Xtrain[:, range(0,10)]\n",
    "Xtest = Xtest[:, range(0,10)]"
   ]
  },
  {
   "cell_type": "code",
   "execution_count": 66,
   "metadata": {
    "collapsed": false
   },
   "outputs": [],
   "source": [
    "encoder = OneHotEncoder()\n",
    "Xtrainsparse = encoder.fit_transform(Xtrain)\n",
    "Xtestsparse = encoder.transform(Xtest)"
   ]
  },
  {
   "cell_type": "code",
   "execution_count": 67,
   "metadata": {
    "collapsed": false
   },
   "outputs": [],
   "source": [
    "ytrain = ytrain[:, 0]\n",
    "ytest = ytest[:, 0]"
   ]
  },
  {
   "cell_type": "code",
   "execution_count": 68,
   "metadata": {
    "collapsed": false
   },
   "outputs": [
    {
     "data": {
      "text/plain": [
       "LogisticRegression(C=1.0, class_weight=None, dual=False, fit_intercept=True,\n",
       "          intercept_scaling=1, max_iter=100, multi_class='multinomial',\n",
       "          penalty='l2', random_state=None, solver='lbfgs', tol=0.0001,\n",
       "          verbose=0)"
      ]
     },
     "execution_count": 68,
     "metadata": {},
     "output_type": "execute_result"
    }
   ],
   "source": [
    "logistic.fit(Xtrainsparse, ytrain)"
   ]
  },
  {
   "cell_type": "code",
   "execution_count": 69,
   "metadata": {
    "collapsed": false
   },
   "outputs": [
    {
     "data": {
      "text/plain": [
       "0.3623413933445056"
      ]
     },
     "execution_count": 69,
     "metadata": {},
     "output_type": "execute_result"
    }
   ],
   "source": [
    "logistic.score(Xtrainsparse, ytrain)"
   ]
  },
  {
   "cell_type": "code",
   "execution_count": 70,
   "metadata": {
    "collapsed": false
   },
   "outputs": [
    {
     "data": {
      "text/plain": [
       "0.31501272264631042"
      ]
     },
     "execution_count": 70,
     "metadata": {},
     "output_type": "execute_result"
    }
   ],
   "source": [
    "logistic.score(Xtestsparse, ytest)"
   ]
  },
  {
   "cell_type": "code",
   "execution_count": 71,
   "metadata": {
    "collapsed": false
   },
   "outputs": [
    {
     "data": {
      "text/plain": [
       "Counter({1: 511,\n",
       "         2: 46,\n",
       "         3: 529,\n",
       "         4: 59,\n",
       "         5: 71,\n",
       "         6: 5,\n",
       "         7: 5,\n",
       "         8: 169,\n",
       "         9: 288,\n",
       "         10: 67,\n",
       "         11: 136,\n",
       "         13: 30,\n",
       "         14: 25,\n",
       "         15: 3,\n",
       "         18: 15,\n",
       "         22: 2,\n",
       "         24: 3,\n",
       "         29: 1})"
      ]
     },
     "execution_count": 71,
     "metadata": {},
     "output_type": "execute_result"
    }
   ],
   "source": [
    "Counter(list(logistic.predict(Xtestsparse)))"
   ]
  },
  {
   "cell_type": "markdown",
   "metadata": {},
   "source": [
    "#### What if you predicted the most freqeuent class every time?"
   ]
  },
  {
   "cell_type": "code",
   "execution_count": 72,
   "metadata": {
    "collapsed": false
   },
   "outputs": [
    {
     "data": {
      "text/plain": [
       "0.20966921119592874"
      ]
     },
     "execution_count": 72,
     "metadata": {},
     "output_type": "execute_result"
    }
   ],
   "source": [
    "Counter(ytest)[1] / float(len(ytest))"
   ]
  },
  {
   "cell_type": "code",
   "execution_count": 73,
   "metadata": {
    "collapsed": false
   },
   "outputs": [
    {
     "data": {
      "text/plain": [
       "0.182726837443141"
      ]
     },
     "execution_count": 73,
     "metadata": {},
     "output_type": "execute_result"
    }
   ],
   "source": [
    "Counter(ytrain)[1] / float(len(ytrain))"
   ]
  },
  {
   "cell_type": "markdown",
   "metadata": {},
   "source": [
    "So guessing the I chord every time would give you about 18% accuracy on the training set and 22% accuracy on the test set."
   ]
  },
  {
   "cell_type": "markdown",
   "metadata": {},
   "source": [
    "## Naive Bayes"
   ]
  },
  {
   "cell_type": "code",
   "execution_count": 43,
   "metadata": {
    "collapsed": true
   },
   "outputs": [],
   "source": [
    "from sklearn import naive_bayes"
   ]
  },
  {
   "cell_type": "code",
   "execution_count": 44,
   "metadata": {
    "collapsed": false
   },
   "outputs": [],
   "source": [
    "nb = naive_bayes.MultinomialNB(alpha=0.1, fit_prior=True, class_prior=None)"
   ]
  },
  {
   "cell_type": "code",
   "execution_count": 45,
   "metadata": {
    "collapsed": false
   },
   "outputs": [
    {
     "data": {
      "text/plain": [
       "MultinomialNB(alpha=0.1, class_prior=None, fit_prior=True)"
      ]
     },
     "execution_count": 45,
     "metadata": {},
     "output_type": "execute_result"
    }
   ],
   "source": [
    "nb.fit(Xtrainsparse, ytrain)"
   ]
  },
  {
   "cell_type": "code",
   "execution_count": 46,
   "metadata": {
    "collapsed": false
   },
   "outputs": [
    {
     "data": {
      "text/plain": [
       "0.28193384223918577"
      ]
     },
     "execution_count": 46,
     "metadata": {},
     "output_type": "execute_result"
    }
   ],
   "source": [
    "nb.score(Xtestsparse, ytest)"
   ]
  },
  {
   "cell_type": "code",
   "execution_count": 47,
   "metadata": {
    "collapsed": false
   },
   "outputs": [
    {
     "data": {
      "text/plain": [
       "0.31781182666985874"
      ]
     },
     "execution_count": 47,
     "metadata": {},
     "output_type": "execute_result"
    }
   ],
   "source": [
    "nb.score(Xtrainsparse, ytrain)"
   ]
  },
  {
   "cell_type": "code",
   "execution_count": 48,
   "metadata": {
    "collapsed": false
   },
   "outputs": [
    {
     "data": {
      "text/plain": [
       "Counter({1: 405,\n",
       "         2: 91,\n",
       "         3: 400,\n",
       "         4: 86,\n",
       "         5: 141,\n",
       "         6: 42,\n",
       "         7: 23,\n",
       "         8: 140,\n",
       "         9: 283,\n",
       "         10: 52,\n",
       "         11: 134,\n",
       "         12: 9,\n",
       "         13: 36,\n",
       "         14: 32,\n",
       "         15: 14,\n",
       "         16: 1,\n",
       "         17: 7,\n",
       "         18: 40,\n",
       "         22: 10,\n",
       "         24: 2,\n",
       "         26: 1,\n",
       "         28: 1,\n",
       "         29: 6,\n",
       "         32: 2,\n",
       "         33: 2,\n",
       "         34: 1,\n",
       "         40: 1,\n",
       "         41: 3})"
      ]
     },
     "execution_count": 48,
     "metadata": {},
     "output_type": "execute_result"
    }
   ],
   "source": [
    "Counter(list(nb.predict(Xtestsparse)))"
   ]
  },
  {
   "cell_type": "markdown",
   "metadata": {},
   "source": [
    "## Oracle experiment"
   ]
  },
  {
   "cell_type": "code",
   "execution_count": 252,
   "metadata": {
    "collapsed": true
   },
   "outputs": [],
   "source": [
    "with h5py.File('data/chorales.hdf5', \"r\", libver='latest') as f:\n",
    "    Xtrainor = f['Xtrain'].value\n",
    "    ytrainor = f['ytrain'].value\n",
    "    Xtestor = f['Xtest'].value\n",
    "    ytestor = f['ytest'].value"
   ]
  },
  {
   "cell_type": "code",
   "execution_count": 253,
   "metadata": {
    "collapsed": false
   },
   "outputs": [],
   "source": [
    "Xtrainor = Xtrainor[:, range(0,11)] # The 10th column contains the correct previous harmony. \n",
    "Xtestor = Xtestor[:, range(0,11)]\n",
    "allor = numpy.vstack((Xtrainor, Xtestor))\n",
    "ytrainor = ytrainor[:, 0]\n",
    "ytestor = ytestor[:, 0]"
   ]
  },
  {
   "cell_type": "code",
   "execution_count": 254,
   "metadata": {
    "collapsed": true
   },
   "outputs": [],
   "source": [
    "encoder = OneHotEncoder()\n",
    "encoder.fit(allor)\n",
    "Xtrainorsparse = encoder.transform(Xtrainor)\n",
    "Xtestorsparse = encoder.transform(Xtestor)"
   ]
  },
  {
   "cell_type": "code",
   "execution_count": 255,
   "metadata": {
    "collapsed": true
   },
   "outputs": [],
   "source": [
    "logistic = linear_model.LogisticRegression(multi_class='multinomial', solver='lbfgs')"
   ]
  },
  {
   "cell_type": "code",
   "execution_count": 256,
   "metadata": {
    "collapsed": false
   },
   "outputs": [
    {
     "data": {
      "text/plain": [
       "LogisticRegression(C=1.0, class_weight=None, dual=False, fit_intercept=True,\n",
       "          intercept_scaling=1, max_iter=100, multi_class='multinomial',\n",
       "          penalty='l2', random_state=None, solver='lbfgs', tol=0.0001,\n",
       "          verbose=0)"
      ]
     },
     "execution_count": 256,
     "metadata": {},
     "output_type": "execute_result"
    }
   ],
   "source": [
    "logistic.fit(Xtrainorsparse, ytrainor)"
   ]
  },
  {
   "cell_type": "code",
   "execution_count": 257,
   "metadata": {
    "collapsed": false
   },
   "outputs": [
    {
     "data": {
      "text/plain": [
       "0.45187933923868806"
      ]
     },
     "execution_count": 257,
     "metadata": {},
     "output_type": "execute_result"
    }
   ],
   "source": [
    "logistic.score(Xtrainorsparse, ytrainor)"
   ]
  },
  {
   "cell_type": "code",
   "execution_count": 258,
   "metadata": {
    "collapsed": false
   },
   "outputs": [
    {
     "data": {
      "text/plain": [
       "0.40712468193384221"
      ]
     },
     "execution_count": 258,
     "metadata": {},
     "output_type": "execute_result"
    }
   ],
   "source": [
    "logistic.score(Xtestorsparse, ytestor)"
   ]
  },
  {
   "cell_type": "code",
   "execution_count": 259,
   "metadata": {
    "collapsed": false
   },
   "outputs": [
    {
     "data": {
      "text/plain": [
       "MultinomialNB(alpha=0.1, class_prior=None, fit_prior=True)"
      ]
     },
     "execution_count": 259,
     "metadata": {},
     "output_type": "execute_result"
    }
   ],
   "source": [
    "nb = naive_bayes.MultinomialNB(alpha=0.1, fit_prior=True, class_prior=None)\n",
    "nb.fit(Xtrainorsparse, ytrainor)"
   ]
  },
  {
   "cell_type": "code",
   "execution_count": 260,
   "metadata": {
    "collapsed": false
   },
   "outputs": [
    {
     "data": {
      "text/plain": [
       "0.41225760114915011"
      ]
     },
     "execution_count": 260,
     "metadata": {},
     "output_type": "execute_result"
    }
   ],
   "source": [
    "nb.score(Xtrainorsparse, ytrainor)"
   ]
  },
  {
   "cell_type": "code",
   "execution_count": 261,
   "metadata": {
    "collapsed": false
   },
   "outputs": [
    {
     "data": {
      "text/plain": [
       "0.36946564885496186"
      ]
     },
     "execution_count": 261,
     "metadata": {},
     "output_type": "execute_result"
    }
   ],
   "source": [
    "nb.score(Xtestorsparse, ytestor)"
   ]
  },
  {
   "cell_type": "code",
   "execution_count": 55,
   "metadata": {
    "collapsed": false
   },
   "outputs": [],
   "source": [
    "prevharmmin = Xtestor[:, 9].min()\n",
    "prevharmax = Xtestor[:, 9].max()"
   ]
  },
  {
   "cell_type": "code",
   "execution_count": 56,
   "metadata": {
    "collapsed": false
   },
   "outputs": [
    {
     "name": "stdout",
     "output_type": "stream",
     "text": [
      "0.304325699746\n"
     ]
    }
   ],
   "source": [
    "correct = 0.\n",
    "prev = None\n",
    "for idx, x in enumerate(Xtestor):\n",
    "    if idx > 1:\n",
    "        x[10] = prev + prevharmmin - 1\n",
    "    inx = encoder.transform(x)\n",
    "    if logistic.predict(inx)[0] == ytestor[idx]:\n",
    "        correct += 1\n",
    "    prev = logistic.predict(inx)[0]\n",
    "print correct / len(Xtestor)"
   ]
  },
  {
   "cell_type": "markdown",
   "metadata": {},
   "source": [
    "# Inversion experiments"
   ]
  },
  {
   "cell_type": "code",
   "execution_count": 349,
   "metadata": {
    "collapsed": true
   },
   "outputs": [],
   "source": [
    "# Reset data\n",
    "with h5py.File('data/chorales.hdf5', \"r\", libver='latest') as f:\n",
    "    Xtrain = f['Xtrain'].value\n",
    "    ytrain = f['ytrain'].value\n",
    "    Xdev = f['Xdev'].value\n",
    "    ydev = f['ydev'].value\n",
    "    Xtest = f['Xtest'].value\n",
    "    ytest = f['ytest'].value"
   ]
  },
  {
   "cell_type": "code",
   "execution_count": 350,
   "metadata": {
    "collapsed": true
   },
   "outputs": [],
   "source": [
    "logistic = linear_model.LogisticRegression(multi_class='multinomial', solver='lbfgs', C=10)"
   ]
  },
  {
   "cell_type": "code",
   "execution_count": 351,
   "metadata": {
    "collapsed": false
   },
   "outputs": [
    {
     "name": "stdout",
     "output_type": "stream",
     "text": [
      "[  1  11  13  16  27 125 154 161 178 203   1]\n",
      "[  1  11  13  16  27 125 154 161 178 203 224]\n",
      "(16708, 11)\n",
      "(1965, 11)\n",
      "(20773, 11)\n"
     ]
    }
   ],
   "source": [
    "# Provide the correct harmony\n",
    "def columnToMatrix(col):\n",
    "    return col.reshape(col.shape[0], 1)\n",
    "\n",
    "Xtraininv = numpy.append(Xtrain[:, range(0,10)], columnToMatrix(ytrain[:, 0]), axis=1)\n",
    "Xdevinv = numpy.append(Xdev[:, range(0,10)], columnToMatrix(ydev[:, 0]), axis=1)\n",
    "Xtestinv = numpy.append(Xtest[:, range(0,10)], columnToMatrix(ytest[:, 0]), axis=1)\n",
    "print Xtraininv[0]\n",
    "max_index = allinv.max()\n",
    "def add_max_index(x):\n",
    "    return x + max_index\n",
    "\n",
    "f = numpy.vectorize(add_max_index)\n",
    "\n",
    "Xtraininv[:, 10] = f(Xtraininv[:, 10])\n",
    "Xdevinv[:, 10] = f(Xdevinv[:, 10])\n",
    "Xtestinv[:, 10] = f(Xtestinv[:, 10])\n",
    "print Xtraininv[0]\n",
    "ytraininv = ytrain[:, 1]\n",
    "ydevinv = ydev[:, 1]\n",
    "ytestinv = ytest[:, 1]\n",
    "\n",
    "allXinv = numpy.vstack((Xtraininv, Xdevinv, Xtestinv))\n",
    "allyinv = numpy.hstack((ytraininv, ydevinv, ytestinv))\n",
    "\n",
    "\n",
    "with h5py.File('data/choralesinv.hdf5', \"w\", libver='latest') as f:\n",
    "    f.create_dataset('Xtrain', Xtraininv.shape, dtype=\"i\", data=Xtraininv)\n",
    "    f.create_dataset('Xdev', Xdevinv.shape, dtype=\"i\", data=Xdevinv)\n",
    "    f.create_dataset('Xtest', Xtestinv.shape, dtype=\"i\", data=Xtestinv)\n",
    "    f.create_dataset('ytrain', ytraininv.shape, dtype=\"i\", data=ytraininv)\n",
    "    f.create_dataset('ydev', ydevinv.shape, dtype=\"i\", data=ydevinv)\n",
    "    f.create_dataset('ytest', ytestinv.shape, dtype=\"i\", data=ytestinv)\n",
    "    f.create_dataset('Xall', allXinv.shape, dtype=\"i\", data=allXinv)\n",
    "    f.create_dataset('yall', allyinv.shape, dtype=\"i\", data=allyinv)\n",
    "\n",
    "print Xtraininv.shape\n",
    "print Xtestinv.shape\n",
    "print allinv.shape"
   ]
  },
  {
   "cell_type": "code",
   "execution_count": 234,
   "metadata": {
    "collapsed": false
   },
   "outputs": [],
   "source": [
    "encoder = OneHotEncoder()\n",
    "encoder.fit(allinv)\n",
    "Xtraininvsparse = encoder.transform(Xtraininv)\n",
    "Xtestinvsparse = encoder.transform(Xtestinv)"
   ]
  },
  {
   "cell_type": "code",
   "execution_count": 235,
   "metadata": {
    "collapsed": false
   },
   "outputs": [],
   "source": [
    "ytraininv = ytrain[:, 1]\n",
    "ytestinv = ytest[:, 1]"
   ]
  },
  {
   "cell_type": "code",
   "execution_count": 236,
   "metadata": {
    "collapsed": false
   },
   "outputs": [
    {
     "data": {
      "text/plain": [
       "LogisticRegression(C=10, class_weight=None, dual=False, fit_intercept=True,\n",
       "          intercept_scaling=1, max_iter=100, multi_class='multinomial',\n",
       "          penalty='l2', random_state=None, solver='lbfgs', tol=0.0001,\n",
       "          verbose=0)"
      ]
     },
     "execution_count": 236,
     "metadata": {},
     "output_type": "execute_result"
    }
   ],
   "source": [
    "logistic.fit(Xtraininvsparse, ytraininv)"
   ]
  },
  {
   "cell_type": "code",
   "execution_count": 237,
   "metadata": {
    "collapsed": false
   },
   "outputs": [
    {
     "data": {
      "text/plain": [
       "0.63358870002394063"
      ]
     },
     "execution_count": 237,
     "metadata": {},
     "output_type": "execute_result"
    }
   ],
   "source": [
    "logistic.score(Xtraininvsparse, ytraininv)"
   ]
  },
  {
   "cell_type": "code",
   "execution_count": 238,
   "metadata": {
    "collapsed": false
   },
   "outputs": [
    {
     "data": {
      "text/plain": [
       "0.64681933842239181"
      ]
     },
     "execution_count": 238,
     "metadata": {},
     "output_type": "execute_result"
    }
   ],
   "source": [
    "logistic.score(Xtestinvsparse, ytestinv)"
   ]
  },
  {
   "cell_type": "markdown",
   "metadata": {},
   "source": [
    "#### What if you just predicted the most frequent class?"
   ]
  },
  {
   "cell_type": "code",
   "execution_count": 197,
   "metadata": {
    "collapsed": false
   },
   "outputs": [
    {
     "data": {
      "text/plain": [
       "0.5601508259516399"
      ]
     },
     "execution_count": 197,
     "metadata": {},
     "output_type": "execute_result"
    }
   ],
   "source": [
    "Counter(ytraininv)[1] / float(len(ytraininv))"
   ]
  },
  {
   "cell_type": "code",
   "execution_count": 198,
   "metadata": {
    "collapsed": false
   },
   "outputs": [
    {
     "data": {
      "text/plain": [
       "0.5603053435114503"
      ]
     },
     "execution_count": 198,
     "metadata": {},
     "output_type": "execute_result"
    }
   ],
   "source": [
    "Counter(ytestinv)[1] / float(len(ytestinv))"
   ]
  },
  {
   "cell_type": "code",
   "execution_count": 199,
   "metadata": {
    "collapsed": false
   },
   "outputs": [
    {
     "data": {
      "text/plain": [
       "Counter({1: 1101,\n",
       "         2: 410,\n",
       "         3: 90,\n",
       "         4: 115,\n",
       "         5: 43,\n",
       "         6: 19,\n",
       "         7: 34,\n",
       "         8: 2,\n",
       "         9: 75,\n",
       "         10: 39,\n",
       "         11: 15,\n",
       "         12: 1,\n",
       "         13: 21})"
      ]
     },
     "execution_count": 199,
     "metadata": {},
     "output_type": "execute_result"
    }
   ],
   "source": [
    "Counter(ytestinv)"
   ]
  },
  {
   "cell_type": "code",
   "execution_count": 200,
   "metadata": {
    "collapsed": false
   },
   "outputs": [
    {
     "data": {
      "text/plain": [
       "Counter({1: 1501,\n",
       "         2: 294,\n",
       "         3: 78,\n",
       "         4: 28,\n",
       "         5: 2,\n",
       "         6: 1,\n",
       "         7: 6,\n",
       "         9: 27,\n",
       "         10: 10,\n",
       "         11: 9,\n",
       "         13: 9})"
      ]
     },
     "execution_count": 200,
     "metadata": {},
     "output_type": "execute_result"
    }
   ],
   "source": [
    "Counter(logistic.predict(Xtestinvsparse))"
   ]
  },
  {
   "cell_type": "markdown",
   "metadata": {},
   "source": [
    "### Naive Bayes"
   ]
  },
  {
   "cell_type": "code",
   "execution_count": 211,
   "metadata": {
    "collapsed": false
   },
   "outputs": [
    {
     "data": {
      "text/plain": [
       "MultinomialNB(alpha=1, class_prior=None, fit_prior=True)"
      ]
     },
     "execution_count": 211,
     "metadata": {},
     "output_type": "execute_result"
    }
   ],
   "source": [
    "nb = naive_bayes.MultinomialNB(alpha=1, fit_prior=True, class_prior=None)\n",
    "nb.fit(Xtraininvsparse, ytraininv)"
   ]
  },
  {
   "cell_type": "code",
   "execution_count": 212,
   "metadata": {
    "collapsed": false
   },
   "outputs": [
    {
     "data": {
      "text/plain": [
       "0.60354321283217616"
      ]
     },
     "execution_count": 212,
     "metadata": {},
     "output_type": "execute_result"
    }
   ],
   "source": [
    "nb.score(Xtraininvsparse, ytraininv)"
   ]
  },
  {
   "cell_type": "code",
   "execution_count": 213,
   "metadata": {
    "collapsed": false
   },
   "outputs": [
    {
     "data": {
      "text/plain": [
       "0.6091603053435114"
      ]
     },
     "execution_count": 213,
     "metadata": {},
     "output_type": "execute_result"
    }
   ],
   "source": [
    "nb.score(Xtestinvsparse, ytestinv)"
   ]
  },
  {
   "cell_type": "code",
   "execution_count": 214,
   "metadata": {
    "collapsed": false
   },
   "outputs": [
    {
     "data": {
      "text/plain": [
       "Counter({1: 1236,\n",
       "         2: 467,\n",
       "         3: 132,\n",
       "         4: 51,\n",
       "         5: 1,\n",
       "         6: 8,\n",
       "         7: 9,\n",
       "         9: 41,\n",
       "         10: 8,\n",
       "         11: 6,\n",
       "         13: 6})"
      ]
     },
     "execution_count": 214,
     "metadata": {},
     "output_type": "execute_result"
    }
   ],
   "source": [
    "Counter(nb.predict(Xtestinvsparse))"
   ]
  },
  {
   "cell_type": "markdown",
   "metadata": {},
   "source": [
    "## Best performance sequentially"
   ]
  },
  {
   "cell_type": "markdown",
   "metadata": {},
   "source": [
    "One method for evaluating all four harmonization subtasks (Roman numeral, inversion, alto, tenor) is to train 4 classifiers and pass the output from each as part of the input to the next. To get an upper bound on accuracy, let's create a classifier that takes as input correct decision for the first 3 subtasks."
   ]
  },
  {
   "cell_type": "code",
   "execution_count": 303,
   "metadata": {
    "collapsed": true
   },
   "outputs": [],
   "source": [
    "# Reset data\n",
    "with h5py.File('data/chorales.hdf5', \"r\", libver='latest') as f:\n",
    "    Xtrain = f['Xtrain'].value\n",
    "    ytrain = f['ytrain'].value\n",
    "    Xdev = f['Xdev'].value\n",
    "    ydev = f['ydev'].value\n",
    "    Xtest = f['Xtest'].value\n",
    "    ytest = f['ytest'].value"
   ]
  },
  {
   "cell_type": "code",
   "execution_count": 304,
   "metadata": {
    "collapsed": false
   },
   "outputs": [],
   "source": [
    "Xtrainten = numpy.hstack((Xtrain[:, range(0,10)], ytrain[:, range(0,3)]))\n",
    "Xtestten = numpy.hstack((Xtest[:, range(0,10)], ytest[:, range(0,3)]))"
   ]
  },
  {
   "cell_type": "code",
   "execution_count": 305,
   "metadata": {
    "collapsed": true
   },
   "outputs": [],
   "source": [
    "def add_max_index(x):\n",
    "    return x + max_index\n",
    "f = numpy.vectorize(add_max_index)"
   ]
  },
  {
   "cell_type": "code",
   "execution_count": 306,
   "metadata": {
    "collapsed": false
   },
   "outputs": [],
   "source": [
    "for i in range(10, 13):\n",
    "    max_index = allXten.max()\n",
    "    Xtrainten[:, i] = f(Xtrainten[:, i])\n",
    "    Xtestten[:, i] = f(Xtestten[:, i])\n",
    "    allXten = numpy.vstack((Xtrainten, Xtestten))"
   ]
  },
  {
   "cell_type": "code",
   "execution_count": 307,
   "metadata": {
    "collapsed": false
   },
   "outputs": [],
   "source": [
    "ytrainten = ytrain[:, 3]\n",
    "ytestten = ytest[:, 3]"
   ]
  },
  {
   "cell_type": "code",
   "execution_count": 308,
   "metadata": {
    "collapsed": false
   },
   "outputs": [
    {
     "name": "stdout",
     "output_type": "stream",
     "text": [
      "[  1  11  13  16  27 125 154 161 178 203 315 369 386]\n",
      "4\n"
     ]
    }
   ],
   "source": [
    "print Xtrainten[0]\n",
    "print ytrainten[0]"
   ]
  },
  {
   "cell_type": "code",
   "execution_count": 309,
   "metadata": {
    "collapsed": true
   },
   "outputs": [],
   "source": [
    "logistic = linear_model.LogisticRegression(multi_class='multinomial', solver='lbfgs', C=10)\n",
    "encoder = OneHotEncoder()\n",
    "encoder.fit(allXten)\n",
    "Xtraintensparse = encoder.transform(Xtrainten)\n",
    "Xtesttensparse = encoder.transform(Xtestten)"
   ]
  },
  {
   "cell_type": "code",
   "execution_count": 310,
   "metadata": {
    "collapsed": false
   },
   "outputs": [
    {
     "data": {
      "text/plain": [
       "LogisticRegression(C=10, class_weight=None, dual=False, fit_intercept=True,\n",
       "          intercept_scaling=1, max_iter=100, multi_class='multinomial',\n",
       "          penalty='l2', random_state=None, solver='lbfgs', tol=0.0001,\n",
       "          verbose=0)"
      ]
     },
     "execution_count": 310,
     "metadata": {},
     "output_type": "execute_result"
    }
   ],
   "source": [
    "logistic.fit(Xtraintensparse, ytrainten)"
   ]
  },
  {
   "cell_type": "code",
   "execution_count": 312,
   "metadata": {
    "collapsed": false
   },
   "outputs": [
    {
     "data": {
      "text/plain": [
       "0.58516878142207329"
      ]
     },
     "execution_count": 312,
     "metadata": {},
     "output_type": "execute_result"
    }
   ],
   "source": [
    "logistic.score(Xtraintensparse, ytrainten)"
   ]
  },
  {
   "cell_type": "code",
   "execution_count": 313,
   "metadata": {
    "collapsed": false
   },
   "outputs": [
    {
     "data": {
      "text/plain": [
       "0.52926208651399487"
      ]
     },
     "execution_count": 313,
     "metadata": {},
     "output_type": "execute_result"
    }
   ],
   "source": [
    "logistic.score(Xtesttensparse, ytestten)"
   ]
  },
  {
   "cell_type": "code",
   "execution_count": 314,
   "metadata": {
    "collapsed": false
   },
   "outputs": [
    {
     "data": {
      "text/plain": [
       "Counter({1: 218,\n",
       "         2: 289,\n",
       "         3: 314,\n",
       "         4: 143,\n",
       "         5: 54,\n",
       "         6: 313,\n",
       "         7: 185,\n",
       "         8: 58,\n",
       "         9: 35,\n",
       "         10: 13,\n",
       "         11: 35,\n",
       "         12: 26,\n",
       "         13: 32,\n",
       "         14: 67,\n",
       "         15: 132,\n",
       "         16: 44,\n",
       "         19: 6,\n",
       "         20: 1})"
      ]
     },
     "execution_count": 314,
     "metadata": {},
     "output_type": "execute_result"
    }
   ],
   "source": [
    "Counter(logistic.predict(Xtesttensparse))"
   ]
  },
  {
   "cell_type": "code",
   "execution_count": 315,
   "metadata": {
    "collapsed": false
   },
   "outputs": [
    {
     "data": {
      "text/plain": [
       "Counter({1: 232,\n",
       "         2: 318,\n",
       "         3: 241,\n",
       "         4: 161,\n",
       "         5: 55,\n",
       "         6: 272,\n",
       "         7: 150,\n",
       "         8: 49,\n",
       "         9: 58,\n",
       "         10: 8,\n",
       "         11: 36,\n",
       "         12: 36,\n",
       "         13: 46,\n",
       "         14: 69,\n",
       "         15: 166,\n",
       "         16: 47,\n",
       "         17: 1,\n",
       "         18: 3,\n",
       "         19: 16,\n",
       "         20: 1})"
      ]
     },
     "execution_count": 315,
     "metadata": {},
     "output_type": "execute_result"
    }
   ],
   "source": [
    "Counter(ytestten)"
   ]
  },
  {
   "cell_type": "markdown",
   "metadata": {},
   "source": [
    "## Creating Data for 4 Sequential Classifiers"
   ]
  },
  {
   "cell_type": "code",
   "execution_count": 354,
   "metadata": {
    "collapsed": true
   },
   "outputs": [],
   "source": [
    "with h5py.File('data/chorales.hdf5', \"r\", libver='latest') as f:\n",
    "    Xtrain = f['Xtrain'].value\n",
    "    ytrain = f['ytrain'].value\n",
    "    Xdev = f['Xdev'].value\n",
    "    ydev = f['ydev'].value\n",
    "    Xtest = f['Xtest'].value\n",
    "    ytest = f['ytest'].value"
   ]
  },
  {
   "cell_type": "code",
   "execution_count": 360,
   "metadata": {
    "collapsed": false
   },
   "outputs": [
    {
     "name": "stdout",
     "output_type": "stream",
     "text": [
      "[  1  11  13  17  28 126 154 158 180 202]\n",
      "[1 1 3 4]\n"
     ]
    }
   ],
   "source": [
    "print Xtrain[1, range(0, 10)]\n",
    "print ytrain[0]"
   ]
  },
  {
   "cell_type": "code",
   "execution_count": 335,
   "metadata": {
    "collapsed": false
   },
   "outputs": [
    {
     "name": "stdout",
     "output_type": "stream",
     "text": [
      "[1 9 1 ..., 1 3 3]\n"
     ]
    }
   ],
   "source": [
    "print ytrain[:, 0]"
   ]
  },
  {
   "cell_type": "code",
   "execution_count": 402,
   "metadata": {
    "collapsed": false
   },
   "outputs": [
    {
     "name": "stdout",
     "output_type": "stream",
     "text": [
      "[  1  11  13  16  27 125 154 161 178 203] 1\n",
      "[  1  11  13  16  27 125 154 161 178 203 224] 1\n",
      "[  1  11  13  16  27 125 154 161 178 203 224 278] 3\n",
      "[  1  11  13  16  27 125 154 161 178 203 224 278 295] 4\n",
      "(16708, 10)\n",
      "\n",
      "INDICES\n",
      "0 1 9\n",
      "1 10 11\n",
      "2 12 14\n",
      "3 15 17\n",
      "4 18 124\n",
      "5 125 153\n",
      "6 154 155\n",
      "7 156 177\n",
      "8 178 200\n",
      "9 201 223\n",
      "10 224 277\n",
      "11 278 292\n",
      "12 293 314\n"
     ]
    }
   ],
   "source": [
    "def add_max_index(x):\n",
    "    return x + max_index\n",
    "f = numpy.vectorize(add_max_index)\n",
    "\n",
    "# Roman numeral data\n",
    "Xtrainnum, Xdevnum, Xtestnum = Xtrain[:, range(0, 10)], Xdev[:, range(0, 10)], Xtest[:, range(0, 10)]\n",
    "ytrainnum, ydevnum, ytestnum = ytrain[:, 0], ydev[:, 0], ytest[:, 0]\n",
    "allXnum = numpy.vstack((Xtrainnum, Xdevnum, Xtestnum))\n",
    "allynum = numpy.hstack((ytrainnum, ydevnum, ytestnum))\n",
    "max_index = allXnum.max()\n",
    "\n",
    "# Inversion data\n",
    "Xtraininv = numpy.hstack((Xtrainnum, ytrain[:, range(0,1)]))\n",
    "Xdevinv = numpy.hstack((Xdevnum, ydev[:, range(0,1)]))\n",
    "Xtestinv = numpy.hstack((Xtestnum, ytest[:, range(0,1)]))\n",
    "ytraininv, ydevinv, ytestinv = ytrain[:, 1], ydev[:, 1], ytest[:, 1]\n",
    "allXinv = numpy.vstack((Xtraininv, Xdevinv, Xtestinv))\n",
    "max_index = allXinv.max()\n",
    "Xtraininv[:, 10] = f(Xtraininv[:, 10])\n",
    "Xdevinv[:, 10] = f(Xdevinv[:, 10])\n",
    "Xtestinv[:, 10] = f(Xtestinv[:, 10])\n",
    "allXinv = numpy.vstack((Xtraininv, Xdevinv, Xtestinv))\n",
    "allyinv = numpy.hstack((ytraininv, ydevinv, ytestinv))\n",
    "\n",
    "# Alto data\n",
    "Xtrainalt = numpy.hstack((Xtraininv, ytrain[:, range(1,2)]))\n",
    "Xdevalt = numpy.hstack((Xdevinv, ydev[:, range(1,2)]))\n",
    "Xtestalt = numpy.hstack((Xtestinv, ytest[:, range(1,2)]))\n",
    "ytrainalt, ydevalt, ytestalt = ytrain[:, 2], ydev[:, 2], ytest[:, 2]\n",
    "allXalt = numpy.vstack((Xtrainalt, Xdevalt, Xtestalt))\n",
    "max_index = allXalt.max()\n",
    "Xtrainalt[:, 11] = f(Xtrainalt[:, 11])\n",
    "Xdevalt[:, 11] = f(Xdevalt[:, 11])\n",
    "Xtestalt[:, 11] = f(Xtestalt[:, 11])\n",
    "allXalt = numpy.vstack((Xtrainalt, Xdevalt, Xtestalt))\n",
    "allyalt = numpy.hstack((ytrainalt, ydevalt, ytestalt))\n",
    "\n",
    "# Tenor data\n",
    "Xtrainten = numpy.hstack((Xtrainalt, ytrain[:, range(2,3)]))\n",
    "Xdevten = numpy.hstack((Xdevalt, ydev[:, range(2,3)]))\n",
    "Xtestten = numpy.hstack((Xtestalt, ytest[:, range(2,3)]))\n",
    "ytrainten, ydevten, ytestten = ytrain[:, 3], ydev[:, 3], ytest[:, 3]\n",
    "allXten = numpy.vstack((Xtrainten, Xdevten, Xtestten))\n",
    "max_index = allXten.max()\n",
    "Xtrainten[:, 12] = f(Xtrainten[:, 12])\n",
    "Xdevten[:, 12] = f(Xdevten[:, 12])\n",
    "Xtestten[:, 12] = f(Xtestten[:, 12])\n",
    "allXten = numpy.vstack((Xtrainten, Xdevten, Xtestten))\n",
    "allyten = numpy.hstack((ytrainten, ydevten, ytestten))\n",
    "\n",
    "print Xtrainnum[0], ytrainnum[0]\n",
    "print Xtraininv[0], ytraininv[0]\n",
    "print Xtrainalt[0], ytrainalt[0]\n",
    "print Xtrainten[0], ytrainten[0]\n",
    "\n",
    "print Xtrainnum.shape\n",
    "\n",
    "print \"\\nINDICES\"\n",
    "for i in range(len(allXten[0])):\n",
    "    print i, allXten[:, i].min(), allXten[:, i].max()\n",
    "    \n"
   ]
  },
  {
   "cell_type": "code",
   "execution_count": 403,
   "metadata": {
    "collapsed": false
   },
   "outputs": [],
   "source": [
    "with h5py.File('data/choralesseq.hdf5', \"w\", libver='latest') as f:\n",
    "    f.create_dataset('Xtrainnum', Xtrainnum.shape, dtype=\"i\", data=Xtrainnum)\n",
    "    f.create_dataset('Xdevnum', Xdevnum.shape, dtype=\"i\", data=Xdevnum)\n",
    "    f.create_dataset('Xtestnum', Xtestnum.shape, dtype=\"i\", data=Xtestnum)\n",
    "    f.create_dataset('ytrainnum', ytrainnum.shape, dtype=\"i\", data=ytrainnum)\n",
    "    f.create_dataset('ydevnum', ydevnum.shape, dtype=\"i\", data=ydevnum)\n",
    "    f.create_dataset('ytestnum', ytestnum.shape, dtype=\"i\", data=ytestnum)\n",
    "    f.create_dataset('Xallnum', allXnum.shape, dtype=\"i\", data=allXnum)\n",
    "    f.create_dataset('yallnum', allynum.shape, dtype=\"i\", data=allynum)\n",
    "    f.create_dataset('Xtraininv', Xtraininv.shape, dtype=\"i\", data=Xtraininv)\n",
    "    f.create_dataset('Xdevinv', Xdevinv.shape, dtype=\"i\", data=Xdevinv)\n",
    "    f.create_dataset('Xtestinv', Xtestinv.shape, dtype=\"i\", data=Xtestinv)\n",
    "    f.create_dataset('ytraininv', ytraininv.shape, dtype=\"i\", data=ytraininv)\n",
    "    f.create_dataset('ydevinv', ydevinv.shape, dtype=\"i\", data=ydevinv)\n",
    "    f.create_dataset('ytestinv', ytestinv.shape, dtype=\"i\", data=ytestinv)\n",
    "    f.create_dataset('Xallinv', allXinv.shape, dtype=\"i\", data=allXinv)\n",
    "    f.create_dataset('yallinv', allyinv.shape, dtype=\"i\", data=allyinv)\n",
    "    f.create_dataset('Xtrainalt', Xtrainalt.shape, dtype=\"i\", data=Xtrainalt)\n",
    "    f.create_dataset('Xdevalt', Xdevalt.shape, dtype=\"i\", data=Xdevalt)\n",
    "    f.create_dataset('Xtestalt', Xtestalt.shape, dtype=\"i\", data=Xtestalt)\n",
    "    f.create_dataset('ytrainalt', ytrainalt.shape, dtype=\"i\", data=ytrainalt)\n",
    "    f.create_dataset('ydevalt', ydevalt.shape, dtype=\"i\", data=ydevalt)\n",
    "    f.create_dataset('ytestalt', ytestalt.shape, dtype=\"i\", data=ytestalt)\n",
    "    f.create_dataset('Xallalt', allXalt.shape, dtype=\"i\", data=allXalt)\n",
    "    f.create_dataset('yallalt', allyalt.shape, dtype=\"i\", data=allyalt)\n",
    "    f.create_dataset('Xtrainten', Xtrainten.shape, dtype=\"i\", data=Xtrainten)\n",
    "    f.create_dataset('Xdevten', Xdevten.shape, dtype=\"i\", data=Xdevten)\n",
    "    f.create_dataset('Xtestten', Xtestten.shape, dtype=\"i\", data=Xtestten)\n",
    "    f.create_dataset('ytrainten', ytrainten.shape, dtype=\"i\", data=ytrainten)\n",
    "    f.create_dataset('ydevten', ydevten.shape, dtype=\"i\", data=ydevten)\n",
    "    f.create_dataset('ytestten', ytestten.shape, dtype=\"i\", data=ytestten)\n",
    "    f.create_dataset('Xallten', allXten.shape, dtype=\"i\", data=allXten)\n",
    "    f.create_dataset('yallten', allyten.shape, dtype=\"i\", data=allyten)"
   ]
  },
  {
   "cell_type": "markdown",
   "metadata": {},
   "source": [
    "## Softmax Tree"
   ]
  },
  {
   "cell_type": "code",
   "execution_count": 84,
   "metadata": {
    "collapsed": false
   },
   "outputs": [],
   "source": [
    "with h5py.File('data/chorales.hdf5', \"r\", libver='latest') as f:\n",
    "    Xtrain = f['Xtrain'].value\n",
    "    ytrain = f['ytrain'].value\n",
    "    Xdev = f['Xdev'].value\n",
    "    ydev = f['ydev'].value\n",
    "    Xtest = f['Xtest'].value\n",
    "    ytest = f['ytest'].value\n",
    "    \n",
    "Xall = numpy.vstack((Xtrain, Xdev, Xtest))\n",
    "yall = numpy.vstack((ytrain, ydev, ytest))"
   ]
  },
  {
   "cell_type": "code",
   "execution_count": 87,
   "metadata": {
    "collapsed": false
   },
   "outputs": [
    {
     "data": {
      "text/plain": [
       "array([[  1,  11,  13, ..., 203, 278, 294],\n",
       "       [  1,  11,  13, ..., 202, 224, 279],\n",
       "       [  1,  11,  13, ..., 205, 232, 279],\n",
       "       ..., \n",
       "       [  7,  11,  13, ..., 202, 231, 280],\n",
       "       [  7,  11,  13, ..., 202, 224, 279],\n",
       "       [  7,  11,  13, ..., 201, 225, 279]], dtype=int32)"
      ]
     },
     "execution_count": 87,
     "metadata": {},
     "output_type": "execute_result"
    }
   ],
   "source": [
    "Xall"
   ]
  },
  {
   "cell_type": "code",
   "execution_count": 88,
   "metadata": {
    "collapsed": false
   },
   "outputs": [
    {
     "data": {
      "text/plain": [
       "array([[1, 1, 3, 4],\n",
       "       [9, 1, 3, 5],\n",
       "       [1, 5, 2, 4],\n",
       "       ..., \n",
       "       [1, 1, 1, 1],\n",
       "       [2, 1, 1, 1],\n",
       "       [2, 1, 1, 1]], dtype=int32)"
      ]
     },
     "execution_count": 88,
     "metadata": {},
     "output_type": "execute_result"
    }
   ],
   "source": [
    "yall"
   ]
  },
  {
   "cell_type": "code",
   "execution_count": 89,
   "metadata": {
    "collapsed": false
   },
   "outputs": [
    {
     "name": "stdout",
     "output_type": "stream",
     "text": [
      "54 15 22 22\n"
     ]
    }
   ],
   "source": [
    "numeralSize = yall[:,0].max()\n",
    "inversionSize = yall[:, 1].max()\n",
    "altoSize = yall[:, 2].max()\n",
    "tenorSize = yall[:, 3].max()\n",
    "print numeralSize, inversionSize, altoSize, tenorSize"
   ]
  },
  {
   "cell_type": "markdown",
   "metadata": {},
   "source": [
    "#### What is the total possible output space? "
   ]
  },
  {
   "cell_type": "code",
   "execution_count": 90,
   "metadata": {
    "collapsed": false
   },
   "outputs": [
    {
     "data": {
      "text/plain": [
       "392040"
      ]
     },
     "execution_count": 90,
     "metadata": {},
     "output_type": "execute_result"
    }
   ],
   "source": [
    "totaloutputspace = numeralSize * inversionSize * altoSize * tenorSize\n",
    "totaloutputspace"
   ]
  },
  {
   "cell_type": "markdown",
   "metadata": {},
   "source": [
    "Now we build the tree."
   ]
  },
  {
   "cell_type": "code",
   "execution_count": 91,
   "metadata": {
    "collapsed": false
   },
   "outputs": [],
   "source": [
    "counter = 1\n",
    "tree = {}\n",
    "root_id = -1\n",
    "\n",
    "tree[root_id] = range(counter, counter + numeralSize)\n",
    "counter += numeralSize\n",
    "for el in range(1, numeralSize + 1):\n",
    "    tree[el] = range(counter, counter + inversionSize)\n",
    "    counter += inversionSize\n",
    "inv_min, inv_max = min(tree[min(tree[root_id])]), counter\n",
    "for el in range(inv_min, inv_max):\n",
    "    tree[el] = range(counter, counter + altoSize)\n",
    "    counter += altoSize\n",
    "alt_min, alt_max = min(tree[inv_min]), counter\n",
    "for el in range(alt_min, alt_max):\n",
    "    tree[el] = range(counter, counter + tenorSize)\n",
    "    counter += tenorSize"
   ]
  },
  {
   "cell_type": "code",
   "execution_count": 92,
   "metadata": {
    "collapsed": false
   },
   "outputs": [
    {
     "name": "stdout",
     "output_type": "stream",
     "text": [
      "Leaf index range: 18685 to 410724\n",
      "Total feature space: 392039\n"
     ]
    }
   ],
   "source": [
    "idx_min, idx_max = min(tree[alt_min]), max(tree[alt_max - 1])\n",
    "print \"Leaf index range: %d to %d\" % (idx_min, idx_max)\n",
    "print \"Total feature space: %d\" % (idx_max - idx_min)"
   ]
  },
  {
   "cell_type": "code",
   "execution_count": 93,
   "metadata": {
    "collapsed": false
   },
   "outputs": [
    {
     "data": {
      "text/plain": [
       "array([1, 1, 3, 4], dtype=int32)"
      ]
     },
     "execution_count": 93,
     "metadata": {},
     "output_type": "execute_result"
    }
   ],
   "source": [
    "ytrain[0]"
   ]
  },
  {
   "cell_type": "code",
   "execution_count": 76,
   "metadata": {
    "collapsed": false
   },
   "outputs": [],
   "source": [
    "def lookup((y1, y2, y3, y4)):\n",
    "    level1 = tree[-1]\n",
    "    node1 = level1[y1-1]\n",
    "    level2 = tree[node1]\n",
    "    node2 = level2[y2-1]\n",
    "    level3 = tree[node2]\n",
    "    node3 = level3[y3-1]\n",
    "    level4 = tree[node3]\n",
    "    leaf = level4[y4-1]\n",
    "    return leaf\n",
    "\n",
    "ytrainTree = numpy.array([lookup((y1, y2, y3, y4)) for (y1, y2, y3, y4) in ytrain])\n",
    "ydevTree = numpy.array([lookup((y1, y2, y3, y4)) for (y1, y2, y3, y4) in ydev])\n",
    "ytestTree = numpy.array([lookup((y1, y2, y3, y4)) for (y1, y2, y3, y4) in ytest])"
   ]
  },
  {
   "cell_type": "code",
   "execution_count": 77,
   "metadata": {
    "collapsed": false
   },
   "outputs": [],
   "source": [
    "with h5py.File('data/choralestree.hdf5', \"w\", libver='latest') as f:\n",
    "    f.create_dataset('ytrainTree', ytrainTree.shape, dtype=\"i\", data=ytrainTree)\n",
    "    f.create_dataset('ydevTree', ydevTree.shape, dtype=\"i\", data=ydevTree)\n",
    "    f.create_dataset('ytestTree', ytestTree.shape, dtype=\"i\", data=ytestTree)"
   ]
  },
  {
   "cell_type": "markdown",
   "metadata": {},
   "source": [
    "### Sklearn on the full dataset"
   ]
  },
  {
   "cell_type": "code",
   "execution_count": 97,
   "metadata": {
    "collapsed": true
   },
   "outputs": [],
   "source": [
    "with h5py.File('data/chorales.hdf5', \"r\", libver='latest') as f:\n",
    "    Xtrain = f['Xtrain'].value\n",
    "    ytrain = f['ytrain'].value\n",
    "    Xdev = f['Xdev'].value\n",
    "    ydev = f['ydev'].value\n",
    "    Xtest = f['Xtest'].value\n",
    "    ytest = f['ytest'].value\n",
    "\n",
    "Xall = numpy.vstack((Xtrain, Xdev, Xtest))\n",
    "yall = numpy.vstack((ytrain, ydev, ytest))"
   ]
  },
  {
   "cell_type": "code",
   "execution_count": 102,
   "metadata": {
    "collapsed": false
   },
   "outputs": [
    {
     "name": "stdout",
     "output_type": "stream",
     "text": [
      "(16708,)\n",
      "(2100,)\n",
      "(1965,)\n"
     ]
    }
   ],
   "source": [
    "from ordered_set import OrderedSet\n",
    "# Convert ytrainTree into a list of indices of occurring harmonizations.\n",
    "harmonizations = {}\n",
    "counter = 1\n",
    "\n",
    "totuple = lambda x: tuple(x)\n",
    "ytraintups, ydevtups, ytesttups = map(totuple, ytrain), map(totuple, ydev), map(totuple, ytest)\n",
    "yalltups = ytraintups + ydevtups + ytesttups\n",
    "yunique = list(OrderedSet(yalltups))\n",
    "tounique = lambda x: yunique.index(x) + 1\n",
    "ytrainunique, ydevunique, ytestunique = map(tounique, ytraintups), map(tounique, ydevtups), map(tounique, ytesttups)\n",
    "ytrainunique, ydevunique, ytestunique = numpy.array(ytrainunique), numpy.array(ydevunique), numpy.array(ytestunique)\n",
    "\n",
    "with h5py.File('data/chorales_sm.hdf5', \"w\", libver='latest') as f:\n",
    "    f.create_dataset('ytrainunique', ytrainunique.shape, dtype=\"i\", data=ytrainunique)\n",
    "    f.create_dataset('ydevunique', ydevunique.shape, dtype=\"i\", data=ydevunique)\n",
    "    f.create_dataset('ytestunique', ytestunique.shape, dtype=\"i\", data=ytestunique)\n",
    "\n",
    "print ytrainunique.shape\n",
    "print ydevunique.shape\n",
    "print ytestunique.shape"
   ]
  },
  {
   "cell_type": "code",
   "execution_count": 103,
   "metadata": {
    "collapsed": false
   },
   "outputs": [
    {
     "data": {
      "text/plain": [
       "array([ 1,  2,  3,  4,  5,  6,  7,  8,  9, 10, 11, 12, 13, 14, 15, 16, 15,\n",
       "       17, 18, 19, 20, 21, 11, 12, 13, 22, 23, 24, 25, 17, 18, 26, 27, 28,\n",
       "       28, 26, 23, 29, 30, 13, 31, 32, 33, 34, 35, 36, 36, 36, 37, 38, 39,\n",
       "       40, 41, 42, 43, 44, 45, 46, 47, 48, 49, 50, 51, 52, 53, 42, 43, 54,\n",
       "       55, 56, 57, 57, 57, 38, 39, 40, 41, 42, 43, 44, 45, 46, 47, 48, 49,\n",
       "       50, 51, 52, 53, 42, 43, 54, 55, 56, 57, 57, 58, 59, 60, 61])"
      ]
     },
     "execution_count": 103,
     "metadata": {},
     "output_type": "execute_result"
    }
   ],
   "source": [
    "ytrainunique[:100]"
   ]
  },
  {
   "cell_type": "code",
   "execution_count": 104,
   "metadata": {
    "collapsed": false
   },
   "outputs": [],
   "source": [
    "logistic = linear_model.LogisticRegression(multi_class='multinomial', solver='lbfgs')\n",
    "encoder = OneHotEncoder()\n",
    "encoder.fit(Xall[:, range(0, 10)])\n",
    "Xtrainsparse = encoder.transform(Xtrain[:, range(0,10)])\n",
    "Xtestsparse = encoder.transform(Xtest[:, range(0,10)])"
   ]
  },
  {
   "cell_type": "code",
   "execution_count": 105,
   "metadata": {
    "collapsed": false
   },
   "outputs": [
    {
     "data": {
      "text/plain": [
       "LogisticRegression(C=10, class_weight=None, dual=False, fit_intercept=True,\n",
       "          intercept_scaling=1, max_iter=100, multi_class='multinomial',\n",
       "          penalty='l2', random_state=None, solver='lbfgs', tol=0.0001,\n",
       "          verbose=0)"
      ]
     },
     "execution_count": 105,
     "metadata": {},
     "output_type": "execute_result"
    }
   ],
   "source": [
    "logistic.fit(Xtrainsparse, ytrainunique)"
   ]
  },
  {
   "cell_type": "code",
   "execution_count": 106,
   "metadata": {
    "collapsed": false
   },
   "outputs": [
    {
     "data": {
      "text/plain": [
       "0.74694757002633472"
      ]
     },
     "execution_count": 106,
     "metadata": {},
     "output_type": "execute_result"
    }
   ],
   "source": [
    "logistic.score(Xtrainsparse, ytrainunique)"
   ]
  },
  {
   "cell_type": "code",
   "execution_count": 107,
   "metadata": {
    "collapsed": false
   },
   "outputs": [
    {
     "data": {
      "text/plain": [
       "0.17862595419847327"
      ]
     },
     "execution_count": 107,
     "metadata": {},
     "output_type": "execute_result"
    }
   ],
   "source": [
    "logistic.score(Xtestsparse, ytestunique)"
   ]
  },
  {
   "cell_type": "code",
   "execution_count": null,
   "metadata": {
    "collapsed": true
   },
   "outputs": [],
   "source": [
    "logis"
   ]
  }
 ],
 "metadata": {
  "kernelspec": {
   "display_name": "Python 2",
   "language": "python",
   "name": "python2"
  },
  "language_info": {
   "codemirror_mode": {
    "name": "ipython",
    "version": 2
   },
   "file_extension": ".py",
   "mimetype": "text/x-python",
   "name": "python",
   "nbconvert_exporter": "python",
   "pygments_lexer": "ipython2",
   "version": "2.7.10"
  }
 },
 "nbformat": 4,
 "nbformat_minor": 0
}
