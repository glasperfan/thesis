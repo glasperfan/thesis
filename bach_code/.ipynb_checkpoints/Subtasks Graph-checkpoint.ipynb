{
 "cells": [
  {
   "cell_type": "code",
   "execution_count": 1,
   "metadata": {
    "collapsed": false
   },
   "outputs": [
    {
     "name": "stderr",
     "output_type": "stream",
     "text": [
      "/Users/hzabriskie/Documents/Music21/anaconda/lib/python2.7/site-packages/matplotlib/__init__.py:872: UserWarning: axes.color_cycle is deprecated and replaced with axes.prop_cycle; please use the latter.\n",
      "  warnings.warn(self.msg_depr % (key, alt_key))\n"
     ]
    }
   ],
   "source": [
    "%matplotlib inline\n",
    "import numpy as np\n",
    "import scipy as sp\n",
    "import matplotlib as mpl\n",
    "import matplotlib.cm as cm\n",
    "import matplotlib.pyplot as plt\n",
    "import pandas as pd\n",
    "pd.set_option('display.width', 500)\n",
    "pd.set_option('display.max_columns', 100)\n",
    "pd.set_option('display.notebook_repr_html', True)\n",
    "import seaborn as sns\n",
    "sns.set_style(\"whitegrid\")\n",
    "sns.set_context(\"poster\")"
   ]
  },
  {
   "cell_type": "code",
   "execution_count": 47,
   "metadata": {
    "collapsed": false
   },
   "outputs": [
    {
     "data": {
      "image/png": "[encoded data removed]",
      "text/plain": [
       "<matplotlib.figure.Figure at 0x1112e0d50>"
      ]
     },
     "metadata": {},
     "output_type": "display_data"
    }
   ],
   "source": [
    "N = 5\n",
    "GAP = 2\n",
    "indices = np.arange(N)\n",
    "colors = sns.diverging_palette(220, 20, n=5)\n",
    "width = 1. / (N + GAP)\n",
    "hfont = {'fontname':'Helvetica'}\n",
    "fig, ax = plt.subplots(figsize=(15,6))\n",
    "lg_vals = [58.29, 56.09, 67.06, 8.22, 36.33]\n",
    "ax.bar(indices, lg_vals, width, color=colors[0], label='Root')\n",
    "nb_vals = [48.19, 50.43, 62.66, 34.73, 31.65]\n",
    "ax.bar(indices + width, nb_vals, width, color=colors[1], label='Base')\n",
    "rf_vals = [63.71, 59.72, 69.73, 47.22, 46.81]\n",
    "ax.bar(indices + width * 2, rf_vals, width, color=colors[2], label='Inversion')\n",
    "mccf_train_vals = [28.5, 49.5, 63.9, 22.6, 20.3]\n",
    "ax.bar(indices + width * 3, mccf_train_vals, width, color=colors[3], label='MCCF - Training')\n",
    "mccf_test_vals = [28.5, 49.5, 63.9, 22.6, 20.3]\n",
    "ax.bar(indices + width * 4, mccf_test_vals, width, color=colors[4], label='MCCF - Test')\n",
    "\n",
    "# Text\n",
    "ax.set_xticks(indices + width * N / 2)\n",
    "ax.set_xlim([-0.5, 5.5])\n",
    "ax.set_ylim([0, 100])\n",
    "ax.legend(loc='upper right')\n",
    "plt.show()"
   ]
  },
  {
   "cell_type": "code",
   "execution_count": 33,
   "metadata": {
    "collapsed": false
   },
   "outputs": [],
   "source": [
    "x = sns.diverging_palette(220, 20, n=7)"
   ]
  },
  {
   "cell_type": "code",
   "execution_count": 34,
   "metadata": {
    "collapsed": false
   },
   "outputs": [
    {
     "data": {
      "text/plain": [
       "array([ 0.24715576,  0.49918708,  0.57655991,  1.        ])"
      ]
     },
     "execution_count": 34,
     "metadata": {},
     "output_type": "execute_result"
    }
   ],
   "source": [
    "x[0]"
   ]
  },
  {
   "cell_type": "code",
   "execution_count": 48,
   "metadata": {
    "collapsed": false
   },
   "outputs": [
    {
     "ename": "SyntaxError",
     "evalue": "invalid syntax (<ipython-input-48-e35b46c14b5a>, line 3)",
     "output_type": "error",
     "traceback": [
      "\u001b[0;36m  File \u001b[0;32m\"<ipython-input-48-e35b46c14b5a>\"\u001b[0;36m, line \u001b[0;32m3\u001b[0m\n\u001b[0;31m    **csfont\u001b[0m\n\u001b[0m     ^\u001b[0m\n\u001b[0;31mSyntaxError\u001b[0m\u001b[0;31m:\u001b[0m invalid syntax\n"
     ]
    }
   ],
   "source": [
    "csfont = {'fontname':'Comic Sans MS'}\n",
    "hfont = {'fontname':'Helvetica'}\n",
    "# plt.title('title',**csfont)\n",
    "# plt.xlabel('xlabel', **hfont)"
   ]
  },
  {
   "cell_type": "code",
   "execution_count": null,
   "metadata": {
    "collapsed": true
   },
   "outputs": [],
   "source": []
  }
 ],
 "metadata": {
  "kernelspec": {
   "display_name": "Python 2",
   "language": "python",
   "name": "python2"
  },
  "language_info": {
   "codemirror_mode": {
    "name": "ipython",
    "version": 2
   },
   "file_extension": ".py",
   "mimetype": "text/x-python",
   "name": "python",
   "nbconvert_exporter": "python",
   "pygments_lexer": "ipython2",
   "version": "2.7.10"
  }
 },
 "nbformat": 4,
 "nbformat_minor": 0
}
