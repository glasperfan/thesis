{
 "cells": [
  {
   "cell_type": "code",
   "execution_count": 2,
   "metadata": {
    "collapsed": false
   },
   "outputs": [],
   "source": [
    "from sklearn import linear_model\n",
    "from sklearn.preprocessing import OneHotEncoder"
   ]
  },
  {
   "cell_type": "code",
   "execution_count": 121,
   "metadata": {
    "collapsed": true
   },
   "outputs": [],
   "source": [
    "import h5py\n",
    "import numpy\n",
    "from collections import Counter"
   ]
  },
  {
   "cell_type": "markdown",
   "metadata": {},
   "source": [
    "# Numeral experiments"
   ]
  },
  {
   "cell_type": "code",
   "execution_count": 120,
   "metadata": {
    "collapsed": false
   },
   "outputs": [],
   "source": [
    "with h5py.File('data/chorales.hdf5', \"r\", libver='latest') as f:\n",
    "    Xtrain = f['Xtrain'].value\n",
    "    ytrain = f['ytrain'].value\n",
    "    Xtest = f['Xtest'].value\n",
    "    ytest = f['ytest'].value"
   ]
  },
  {
   "cell_type": "code",
   "execution_count": 136,
   "metadata": {
    "collapsed": false
   },
   "outputs": [
    {
     "data": {
      "text/plain": [
       "0.15548780487804878"
      ]
     },
     "execution_count": 136,
     "metadata": {},
     "output_type": "execute_result"
    }
   ],
   "source": [
    "Counter(ytest[:, 3])[3] / float(len(ytest))"
   ]
  },
  {
   "cell_type": "code",
   "execution_count": 130,
   "metadata": {
    "collapsed": false
   },
   "outputs": [
    {
     "data": {
      "text/plain": [
       "array([[  5,  10,  13, ..., 208, 278, 294],\n",
       "       [  5,  10,  13, ..., 205, 224, 279],\n",
       "       [  5,  10,  13, ..., 205, 224, 279],\n",
       "       ..., \n",
       "       [  3,  10,  12, ..., 202, 226, 287],\n",
       "       [  3,  10,  12, ..., 202, 226, 282],\n",
       "       [  3,  10,  12, ..., 201, 224, 279]], dtype=int32)"
      ]
     },
     "execution_count": 130,
     "metadata": {},
     "output_type": "execute_result"
    }
   ],
   "source": [
    "Xtrain"
   ]
  },
  {
   "cell_type": "code",
   "execution_count": 19,
   "metadata": {
    "collapsed": false
   },
   "outputs": [
    {
     "data": {
      "text/plain": [
       "array([  1,  11,  13,  16,  27, 125, 154, 161, 178, 203, 278, 294], dtype=int32)"
      ]
     },
     "execution_count": 19,
     "metadata": {},
     "output_type": "execute_result"
    }
   ],
   "source": [
    "Xtrain[0]"
   ]
  },
  {
   "cell_type": "code",
   "execution_count": 20,
   "metadata": {
    "collapsed": false
   },
   "outputs": [
    {
     "data": {
      "text/plain": [
       "array([[ 1,  1,  3,  4],\n",
       "       [ 9,  1,  3,  5],\n",
       "       [ 1,  5,  2,  4],\n",
       "       ..., \n",
       "       [ 1,  1,  7, 15],\n",
       "       [ 3,  9, 13,  3],\n",
       "       [ 3,  4,  1, 13]], dtype=int32)"
      ]
     },
     "execution_count": 20,
     "metadata": {},
     "output_type": "execute_result"
    }
   ],
   "source": [
    "ytrain"
   ]
  },
  {
   "cell_type": "code",
   "execution_count": 21,
   "metadata": {
    "collapsed": true
   },
   "outputs": [],
   "source": [
    "logistic = linear_model.LogisticRegression(multi_class='multinomial', solver='lbfgs', C=100)"
   ]
  },
  {
   "cell_type": "code",
   "execution_count": 22,
   "metadata": {
    "collapsed": false
   },
   "outputs": [],
   "source": [
    "Xtrain = Xtrain[:, range(0,10)]\n",
    "Xtest = Xtest[:, range(0,10)]"
   ]
  },
  {
   "cell_type": "code",
   "execution_count": 23,
   "metadata": {
    "collapsed": false
   },
   "outputs": [],
   "source": [
    "encoder = OneHotEncoder()\n",
    "Xtrainsparse = encoder.fit_transform(Xtrain)\n",
    "Xtestsparse = encoder.transform(Xtest)"
   ]
  },
  {
   "cell_type": "code",
   "execution_count": 24,
   "metadata": {
    "collapsed": false
   },
   "outputs": [],
   "source": [
    "ytrain = ytrain[:, 0]\n",
    "ytest = ytest[:, 0]"
   ]
  },
  {
   "cell_type": "code",
   "execution_count": 25,
   "metadata": {
    "collapsed": false
   },
   "outputs": [
    {
     "data": {
      "text/plain": [
       "LogisticRegression(C=100, class_weight=None, dual=False, fit_intercept=True,\n",
       "          intercept_scaling=1, max_iter=100, multi_class='multinomial',\n",
       "          penalty='l2', random_state=None, solver='lbfgs', tol=0.0001,\n",
       "          verbose=0)"
      ]
     },
     "execution_count": 25,
     "metadata": {},
     "output_type": "execute_result"
    }
   ],
   "source": [
    "logistic.fit(Xtrainsparse, ytrain)"
   ]
  },
  {
   "cell_type": "code",
   "execution_count": 26,
   "metadata": {
    "collapsed": false
   },
   "outputs": [
    {
     "data": {
      "text/plain": [
       "0.36521426861383766"
      ]
     },
     "execution_count": 26,
     "metadata": {},
     "output_type": "execute_result"
    }
   ],
   "source": [
    "logistic.score(Xtrainsparse, ytrain)"
   ]
  },
  {
   "cell_type": "code",
   "execution_count": 27,
   "metadata": {
    "collapsed": false
   },
   "outputs": [
    {
     "data": {
      "text/plain": [
       "0.31501272264631042"
      ]
     },
     "execution_count": 27,
     "metadata": {},
     "output_type": "execute_result"
    }
   ],
   "source": [
    "logistic.score(Xtestsparse, ytest)"
   ]
  },
  {
   "cell_type": "code",
   "execution_count": 71,
   "metadata": {
    "collapsed": false
   },
   "outputs": [
    {
     "data": {
      "text/plain": [
       "Counter({1: 511,\n",
       "         2: 46,\n",
       "         3: 529,\n",
       "         4: 59,\n",
       "         5: 71,\n",
       "         6: 5,\n",
       "         7: 5,\n",
       "         8: 169,\n",
       "         9: 288,\n",
       "         10: 67,\n",
       "         11: 136,\n",
       "         13: 30,\n",
       "         14: 25,\n",
       "         15: 3,\n",
       "         18: 15,\n",
       "         22: 2,\n",
       "         24: 3,\n",
       "         29: 1})"
      ]
     },
     "execution_count": 71,
     "metadata": {},
     "output_type": "execute_result"
    }
   ],
   "source": [
    "Counter(list(logistic.predict(Xtestsparse)))"
   ]
  },
  {
   "cell_type": "markdown",
   "metadata": {},
   "source": [
    "#### What if you predicted the most freqeuent class every time?"
   ]
  },
  {
   "cell_type": "code",
   "execution_count": 72,
   "metadata": {
    "collapsed": false
   },
   "outputs": [
    {
     "data": {
      "text/plain": [
       "0.20966921119592874"
      ]
     },
     "execution_count": 72,
     "metadata": {},
     "output_type": "execute_result"
    }
   ],
   "source": [
    "Counter(ytest)[1] / float(len(ytest))"
   ]
  },
  {
   "cell_type": "code",
   "execution_count": 73,
   "metadata": {
    "collapsed": false
   },
   "outputs": [
    {
     "data": {
      "text/plain": [
       "0.182726837443141"
      ]
     },
     "execution_count": 73,
     "metadata": {},
     "output_type": "execute_result"
    }
   ],
   "source": [
    "Counter(ytrain)[1] / float(len(ytrain))"
   ]
  },
  {
   "cell_type": "markdown",
   "metadata": {},
   "source": [
    "So guessing the I chord every time would give you about 18% accuracy on the training set and 22% accuracy on the test set."
   ]
  },
  {
   "cell_type": "markdown",
   "metadata": {},
   "source": [
    "## Naive Bayes"
   ]
  },
  {
   "cell_type": "code",
   "execution_count": 116,
   "metadata": {
    "collapsed": true
   },
   "outputs": [],
   "source": [
    "from sklearn import naive_bayes"
   ]
  },
  {
   "cell_type": "code",
   "execution_count": 44,
   "metadata": {
    "collapsed": false
   },
   "outputs": [],
   "source": [
    "nb = naive_bayes.MultinomialNB(alpha=0.1, fit_prior=True, class_prior=None)"
   ]
  },
  {
   "cell_type": "code",
   "execution_count": 45,
   "metadata": {
    "collapsed": false
   },
   "outputs": [
    {
     "data": {
      "text/plain": [
       "MultinomialNB(alpha=0.1, class_prior=None, fit_prior=True)"
      ]
     },
     "execution_count": 45,
     "metadata": {},
     "output_type": "execute_result"
    }
   ],
   "source": [
    "nb.fit(Xtrainsparse, ytrain)"
   ]
  },
  {
   "cell_type": "code",
   "execution_count": 46,
   "metadata": {
    "collapsed": false
   },
   "outputs": [
    {
     "data": {
      "text/plain": [
       "0.28193384223918577"
      ]
     },
     "execution_count": 46,
     "metadata": {},
     "output_type": "execute_result"
    }
   ],
   "source": [
    "nb.score(Xtestsparse, ytest)"
   ]
  },
  {
   "cell_type": "code",
   "execution_count": 47,
   "metadata": {
    "collapsed": false
   },
   "outputs": [
    {
     "data": {
      "text/plain": [
       "0.31781182666985874"
      ]
     },
     "execution_count": 47,
     "metadata": {},
     "output_type": "execute_result"
    }
   ],
   "source": [
    "nb.score(Xtrainsparse, ytrain)"
   ]
  },
  {
   "cell_type": "code",
   "execution_count": 48,
   "metadata": {
    "collapsed": false
   },
   "outputs": [
    {
     "data": {
      "text/plain": [
       "Counter({1: 405,\n",
       "         2: 91,\n",
       "         3: 400,\n",
       "         4: 86,\n",
       "         5: 141,\n",
       "         6: 42,\n",
       "         7: 23,\n",
       "         8: 140,\n",
       "         9: 283,\n",
       "         10: 52,\n",
       "         11: 134,\n",
       "         12: 9,\n",
       "         13: 36,\n",
       "         14: 32,\n",
       "         15: 14,\n",
       "         16: 1,\n",
       "         17: 7,\n",
       "         18: 40,\n",
       "         22: 10,\n",
       "         24: 2,\n",
       "         26: 1,\n",
       "         28: 1,\n",
       "         29: 6,\n",
       "         32: 2,\n",
       "         33: 2,\n",
       "         34: 1,\n",
       "         40: 1,\n",
       "         41: 3})"
      ]
     },
     "execution_count": 48,
     "metadata": {},
     "output_type": "execute_result"
    }
   ],
   "source": [
    "Counter(list(nb.predict(Xtestsparse)))"
   ]
  },
  {
   "cell_type": "markdown",
   "metadata": {},
   "source": [
    "## Oracle experiment"
   ]
  },
  {
   "cell_type": "code",
   "execution_count": 252,
   "metadata": {
    "collapsed": true
   },
   "outputs": [],
   "source": [
    "with h5py.File('data/chorales.hdf5', \"r\", libver='latest') as f:\n",
    "    Xtrainor = f['Xtrain'].value\n",
    "    ytrainor = f['ytrain'].value\n",
    "    Xtestor = f['Xtest'].value\n",
    "    ytestor = f['ytest'].value"
   ]
  },
  {
   "cell_type": "code",
   "execution_count": 253,
   "metadata": {
    "collapsed": false
   },
   "outputs": [],
   "source": [
    "Xtrainor = Xtrainor[:, range(0,11)] # The 10th column contains the correct previous harmony. \n",
    "Xtestor = Xtestor[:, range(0,11)]\n",
    "allor = numpy.vstack((Xtrainor, Xtestor))\n",
    "ytrainor = ytrainor[:, 0]\n",
    "ytestor = ytestor[:, 0]"
   ]
  },
  {
   "cell_type": "code",
   "execution_count": 254,
   "metadata": {
    "collapsed": true
   },
   "outputs": [],
   "source": [
    "encoder = OneHotEncoder()\n",
    "encoder.fit(allor)\n",
    "Xtrainorsparse = encoder.transform(Xtrainor)\n",
    "Xtestorsparse = encoder.transform(Xtestor)"
   ]
  },
  {
   "cell_type": "code",
   "execution_count": 255,
   "metadata": {
    "collapsed": true
   },
   "outputs": [],
   "source": [
    "logistic = linear_model.LogisticRegression(multi_class='multinomial', solver='lbfgs')"
   ]
  },
  {
   "cell_type": "code",
   "execution_count": 256,
   "metadata": {
    "collapsed": false
   },
   "outputs": [
    {
     "data": {
      "text/plain": [
       "LogisticRegression(C=1.0, class_weight=None, dual=False, fit_intercept=True,\n",
       "          intercept_scaling=1, max_iter=100, multi_class='multinomial',\n",
       "          penalty='l2', random_state=None, solver='lbfgs', tol=0.0001,\n",
       "          verbose=0)"
      ]
     },
     "execution_count": 256,
     "metadata": {},
     "output_type": "execute_result"
    }
   ],
   "source": [
    "logistic.fit(Xtrainorsparse, ytrainor)"
   ]
  },
  {
   "cell_type": "code",
   "execution_count": 257,
   "metadata": {
    "collapsed": false
   },
   "outputs": [
    {
     "data": {
      "text/plain": [
       "0.45187933923868806"
      ]
     },
     "execution_count": 257,
     "metadata": {},
     "output_type": "execute_result"
    }
   ],
   "source": [
    "logistic.score(Xtrainorsparse, ytrainor)"
   ]
  },
  {
   "cell_type": "code",
   "execution_count": 258,
   "metadata": {
    "collapsed": false
   },
   "outputs": [
    {
     "data": {
      "text/plain": [
       "0.40712468193384221"
      ]
     },
     "execution_count": 258,
     "metadata": {},
     "output_type": "execute_result"
    }
   ],
   "source": [
    "logistic.score(Xtestorsparse, ytestor)"
   ]
  },
  {
   "cell_type": "code",
   "execution_count": 259,
   "metadata": {
    "collapsed": false
   },
   "outputs": [
    {
     "data": {
      "text/plain": [
       "MultinomialNB(alpha=0.1, class_prior=None, fit_prior=True)"
      ]
     },
     "execution_count": 259,
     "metadata": {},
     "output_type": "execute_result"
    }
   ],
   "source": [
    "nb = naive_bayes.MultinomialNB(alpha=0.1, fit_prior=True, class_prior=None)\n",
    "nb.fit(Xtrainorsparse, ytrainor)"
   ]
  },
  {
   "cell_type": "code",
   "execution_count": 260,
   "metadata": {
    "collapsed": false
   },
   "outputs": [
    {
     "data": {
      "text/plain": [
       "0.41225760114915011"
      ]
     },
     "execution_count": 260,
     "metadata": {},
     "output_type": "execute_result"
    }
   ],
   "source": [
    "nb.score(Xtrainorsparse, ytrainor)"
   ]
  },
  {
   "cell_type": "code",
   "execution_count": 261,
   "metadata": {
    "collapsed": false
   },
   "outputs": [
    {
     "data": {
      "text/plain": [
       "0.36946564885496186"
      ]
     },
     "execution_count": 261,
     "metadata": {},
     "output_type": "execute_result"
    }
   ],
   "source": [
    "nb.score(Xtestorsparse, ytestor)"
   ]
  },
  {
   "cell_type": "code",
   "execution_count": 55,
   "metadata": {
    "collapsed": false
   },
   "outputs": [],
   "source": [
    "prevharmmin = Xtestor[:, 9].min()\n",
    "prevharmax = Xtestor[:, 9].max()"
   ]
  },
  {
   "cell_type": "code",
   "execution_count": 56,
   "metadata": {
    "collapsed": false
   },
   "outputs": [
    {
     "name": "stdout",
     "output_type": "stream",
     "text": [
      "0.304325699746\n"
     ]
    }
   ],
   "source": [
    "correct = 0.\n",
    "prev = None\n",
    "for idx, x in enumerate(Xtestor):\n",
    "    if idx > 1:\n",
    "        x[10] = prev + prevharmmin - 1\n",
    "    inx = encoder.transform(x)\n",
    "    if logistic.predict(inx)[0] == ytestor[idx]:\n",
    "        correct += 1\n",
    "    prev = logistic.predict(inx)[0]\n",
    "print correct / len(Xtestor)"
   ]
  },
  {
   "cell_type": "markdown",
   "metadata": {},
   "source": [
    "# Inversion experiments"
   ]
  },
  {
   "cell_type": "code",
   "execution_count": 95,
   "metadata": {
    "collapsed": true
   },
   "outputs": [],
   "source": [
    "# Reset data\n",
    "with h5py.File('data/chorales.hdf5', \"r\", libver='latest') as f:\n",
    "    Xtrain = f['Xtrain'].value\n",
    "    ytrain = f['ytrain'].value\n",
    "    Xdev = f['Xdev'].value\n",
    "    ydev = f['ydev'].value\n",
    "    Xtest = f['Xtest'].value\n",
    "    ytest = f['ytest'].value"
   ]
  },
  {
   "cell_type": "code",
   "execution_count": 96,
   "metadata": {
    "collapsed": true
   },
   "outputs": [],
   "source": [
    "logistic = linear_model.LogisticRegression(multi_class='multinomial', solver='lbfgs', C=10)"
   ]
  },
  {
   "cell_type": "code",
   "execution_count": 102,
   "metadata": {
    "collapsed": false
   },
   "outputs": [
    {
     "name": "stdout",
     "output_type": "stream",
     "text": [
      "[  5  10  13  17  29 132 154 167 178 208 224]\n",
      "(16633, 11)\n",
      "(1968, 11)\n",
      "(20773, 11)\n"
     ]
    }
   ],
   "source": [
    "# Provide the correct harmony\n",
    "def columnToMatrix(col):\n",
    "    return col.reshape(col.shape[0], 1)\n",
    "\n",
    "Xtraininv = numpy.append(Xtrain[:, range(0,10)], columnToMatrix(ytrain[:, 0]), axis=1)\n",
    "Xdevinv = numpy.append(Xdev[:, range(0,10)], columnToMatrix(ydev[:, 0]), axis=1)\n",
    "Xtestinv = numpy.append(Xtest[:, range(0,10)], columnToMatrix(ytest[:, 0]), axis=1)\n",
    "allXinv = numpy.vstack((Xtraininv, Xdevinv, Xtestinv))\n",
    "max_index = allXinv.max()\n",
    "def add_max_index(x):\n",
    "    return x + max_index\n",
    "\n",
    "f = numpy.vectorize(add_max_index)\n",
    "\n",
    "Xtraininv[:, 10] = f(Xtraininv[:, 10])\n",
    "Xdevinv[:, 10] = f(Xdevinv[:, 10])\n",
    "Xtestinv[:, 10] = f(Xtestinv[:, 10])\n",
    "print Xtraininv[0]\n",
    "ytraininv = ytrain[:, 1]\n",
    "ydevinv = ydev[:, 1]\n",
    "ytestinv = ytest[:, 1]\n",
    "\n",
    "allXinv = numpy.vstack((Xtraininv, Xdevinv, Xtestinv))\n",
    "allyinv = numpy.hstack((ytraininv, ydevinv, ytestinv))\n",
    "\n",
    "\n",
    "with h5py.File('data/choralesinv.hdf5', \"w\", libver='latest') as f:\n",
    "    f.create_dataset('Xtrain', Xtraininv.shape, dtype=\"i\", data=Xtraininv)\n",
    "    f.create_dataset('Xdev', Xdevinv.shape, dtype=\"i\", data=Xdevinv)\n",
    "    f.create_dataset('Xtest', Xtestinv.shape, dtype=\"i\", data=Xtestinv)\n",
    "    f.create_dataset('ytrain', ytraininv.shape, dtype=\"i\", data=ytraininv)\n",
    "    f.create_dataset('ydev', ydevinv.shape, dtype=\"i\", data=ydevinv)\n",
    "    f.create_dataset('ytest', ytestinv.shape, dtype=\"i\", data=ytestinv)\n",
    "    f.create_dataset('Xall', allXinv.shape, dtype=\"i\", data=allXinv)\n",
    "    f.create_dataset('yall', allyinv.shape, dtype=\"i\", data=allyinv)\n",
    "\n",
    "print Xtraininv.shape\n",
    "print Xtestinv.shape\n",
    "print allXinv.shape"
   ]
  },
  {
   "cell_type": "code",
   "execution_count": 105,
   "metadata": {
    "collapsed": false
   },
   "outputs": [],
   "source": [
    "encoder = OneHotEncoder()\n",
    "encoder.fit(allXinv)\n",
    "Xtraininvsparse = encoder.transform(Xtraininv)\n",
    "Xtestinvsparse = encoder.transform(Xtestinv)"
   ]
  },
  {
   "cell_type": "code",
   "execution_count": 106,
   "metadata": {
    "collapsed": false
   },
   "outputs": [],
   "source": [
    "ytraininv = ytrain[:, 1]\n",
    "ytestinv = ytest[:, 1]"
   ]
  },
  {
   "cell_type": "code",
   "execution_count": 107,
   "metadata": {
    "collapsed": false
   },
   "outputs": [
    {
     "data": {
      "text/plain": [
       "LogisticRegression(C=10, class_weight=None, dual=False, fit_intercept=True,\n",
       "          intercept_scaling=1, max_iter=100, multi_class='multinomial',\n",
       "          penalty='l2', random_state=None, solver='lbfgs', tol=0.0001,\n",
       "          verbose=0)"
      ]
     },
     "execution_count": 107,
     "metadata": {},
     "output_type": "execute_result"
    }
   ],
   "source": [
    "logistic.fit(Xtraininvsparse, ytraininv)"
   ]
  },
  {
   "cell_type": "code",
   "execution_count": 108,
   "metadata": {
    "collapsed": false
   },
   "outputs": [
    {
     "data": {
      "text/plain": [
       "0.63440149101184395"
      ]
     },
     "execution_count": 108,
     "metadata": {},
     "output_type": "execute_result"
    }
   ],
   "source": [
    "logistic.score(Xtraininvsparse, ytraininv)"
   ]
  },
  {
   "cell_type": "code",
   "execution_count": 109,
   "metadata": {
    "collapsed": false
   },
   "outputs": [
    {
     "data": {
      "text/plain": [
       "0.63363821138211385"
      ]
     },
     "execution_count": 109,
     "metadata": {},
     "output_type": "execute_result"
    }
   ],
   "source": [
    "logistic.score(Xtestinvsparse, ytestinv)"
   ]
  },
  {
   "cell_type": "markdown",
   "metadata": {},
   "source": [
    "#### What if you just predicted the most frequent class?"
   ]
  },
  {
   "cell_type": "code",
   "execution_count": 110,
   "metadata": {
    "collapsed": false
   },
   "outputs": [
    {
     "data": {
      "text/plain": [
       "0.5548006974087657"
      ]
     },
     "execution_count": 110,
     "metadata": {},
     "output_type": "execute_result"
    }
   ],
   "source": [
    "Counter(ytraininv)[1] / float(len(ytraininv))"
   ]
  },
  {
   "cell_type": "code",
   "execution_count": 111,
   "metadata": {
    "collapsed": false
   },
   "outputs": [
    {
     "data": {
      "text/plain": [
       "0.5757113821138211"
      ]
     },
     "execution_count": 111,
     "metadata": {},
     "output_type": "execute_result"
    }
   ],
   "source": [
    "Counter(ytestinv)[1] / float(len(ytestinv))"
   ]
  },
  {
   "cell_type": "code",
   "execution_count": 112,
   "metadata": {
    "collapsed": false
   },
   "outputs": [
    {
     "data": {
      "text/plain": [
       "Counter({1: 1133,\n",
       "         2: 392,\n",
       "         3: 108,\n",
       "         4: 96,\n",
       "         5: 39,\n",
       "         6: 16,\n",
       "         7: 38,\n",
       "         8: 2,\n",
       "         9: 71,\n",
       "         10: 35,\n",
       "         11: 19,\n",
       "         13: 18,\n",
       "         15: 1})"
      ]
     },
     "execution_count": 112,
     "metadata": {},
     "output_type": "execute_result"
    }
   ],
   "source": [
    "Counter(ytestinv)"
   ]
  },
  {
   "cell_type": "code",
   "execution_count": 113,
   "metadata": {
    "collapsed": false
   },
   "outputs": [
    {
     "data": {
      "text/plain": [
       "Counter({1: 1508,\n",
       "         2: 256,\n",
       "         3: 68,\n",
       "         4: 45,\n",
       "         6: 13,\n",
       "         7: 8,\n",
       "         9: 37,\n",
       "         10: 16,\n",
       "         11: 13,\n",
       "         13: 4})"
      ]
     },
     "execution_count": 113,
     "metadata": {},
     "output_type": "execute_result"
    }
   ],
   "source": [
    "Counter(logistic.predict(Xtestinvsparse))"
   ]
  },
  {
   "cell_type": "markdown",
   "metadata": {},
   "source": [
    "### Naive Bayes"
   ]
  },
  {
   "cell_type": "code",
   "execution_count": 117,
   "metadata": {
    "collapsed": false
   },
   "outputs": [
    {
     "data": {
      "text/plain": [
       "MultinomialNB(alpha=1, class_prior=None, fit_prior=True)"
      ]
     },
     "execution_count": 117,
     "metadata": {},
     "output_type": "execute_result"
    }
   ],
   "source": [
    "nb = naive_bayes.MultinomialNB(alpha=1, fit_prior=True, class_prior=None)\n",
    "nb.fit(Xtraininvsparse, ytraininv)"
   ]
  },
  {
   "cell_type": "code",
   "execution_count": 118,
   "metadata": {
    "collapsed": false
   },
   "outputs": [
    {
     "data": {
      "text/plain": [
       "0.59706607346840623"
      ]
     },
     "execution_count": 118,
     "metadata": {},
     "output_type": "execute_result"
    }
   ],
   "source": [
    "nb.score(Xtraininvsparse, ytraininv)"
   ]
  },
  {
   "cell_type": "code",
   "execution_count": 119,
   "metadata": {
    "collapsed": false
   },
   "outputs": [
    {
     "data": {
      "text/plain": [
       "0.61788617886178865"
      ]
     },
     "execution_count": 119,
     "metadata": {},
     "output_type": "execute_result"
    }
   ],
   "source": [
    "nb.score(Xtestinvsparse, ytestinv)"
   ]
  },
  {
   "cell_type": "code",
   "execution_count": 214,
   "metadata": {
    "collapsed": false
   },
   "outputs": [
    {
     "data": {
      "text/plain": [
       "Counter({1: 1236,\n",
       "         2: 467,\n",
       "         3: 132,\n",
       "         4: 51,\n",
       "         5: 1,\n",
       "         6: 8,\n",
       "         7: 9,\n",
       "         9: 41,\n",
       "         10: 8,\n",
       "         11: 6,\n",
       "         13: 6})"
      ]
     },
     "execution_count": 214,
     "metadata": {},
     "output_type": "execute_result"
    }
   ],
   "source": [
    "Counter(nb.predict(Xtestinvsparse))"
   ]
  },
  {
   "cell_type": "markdown",
   "metadata": {},
   "source": [
    "## Best performance sequentially"
   ]
  },
  {
   "cell_type": "markdown",
   "metadata": {},
   "source": [
    "One method for evaluating all four harmonization subtasks (Roman numeral, inversion, alto, tenor) is to train 4 classifiers and pass the output from each as part of the input to the next. To get an upper bound on accuracy, let's create a classifier that takes as input correct decision for the first 3 subtasks."
   ]
  },
  {
   "cell_type": "code",
   "execution_count": 303,
   "metadata": {
    "collapsed": true
   },
   "outputs": [],
   "source": [
    "# Reset data\n",
    "with h5py.File('data/chorales.hdf5', \"r\", libver='latest') as f:\n",
    "    Xtrain = f['Xtrain'].value\n",
    "    ytrain = f['ytrain'].value\n",
    "    Xdev = f['Xdev'].value\n",
    "    ydev = f['ydev'].value\n",
    "    Xtest = f['Xtest'].value\n",
    "    ytest = f['ytest'].value"
   ]
  },
  {
   "cell_type": "code",
   "execution_count": 304,
   "metadata": {
    "collapsed": false
   },
   "outputs": [],
   "source": [
    "Xtrainten = numpy.hstack((Xtrain[:, range(0,10)], ytrain[:, range(0,3)]))\n",
    "Xtestten = numpy.hstack((Xtest[:, range(0,10)], ytest[:, range(0,3)]))"
   ]
  },
  {
   "cell_type": "code",
   "execution_count": 305,
   "metadata": {
    "collapsed": true
   },
   "outputs": [],
   "source": [
    "def add_max_index(x):\n",
    "    return x + max_index\n",
    "f = numpy.vectorize(add_max_index)"
   ]
  },
  {
   "cell_type": "code",
   "execution_count": 306,
   "metadata": {
    "collapsed": false
   },
   "outputs": [],
   "source": [
    "for i in range(10, 13):\n",
    "    max_index = allXten.max()\n",
    "    Xtrainten[:, i] = f(Xtrainten[:, i])\n",
    "    Xtestten[:, i] = f(Xtestten[:, i])\n",
    "    allXten = numpy.vstack((Xtrainten, Xtestten))"
   ]
  },
  {
   "cell_type": "code",
   "execution_count": 307,
   "metadata": {
    "collapsed": false
   },
   "outputs": [],
   "source": [
    "ytrainten = ytrain[:, 3]\n",
    "ytestten = ytest[:, 3]"
   ]
  },
  {
   "cell_type": "code",
   "execution_count": 308,
   "metadata": {
    "collapsed": false
   },
   "outputs": [
    {
     "name": "stdout",
     "output_type": "stream",
     "text": [
      "[  1  11  13  16  27 125 154 161 178 203 315 369 386]\n",
      "4\n"
     ]
    }
   ],
   "source": [
    "print Xtrainten[0]\n",
    "print ytrainten[0]"
   ]
  },
  {
   "cell_type": "code",
   "execution_count": 309,
   "metadata": {
    "collapsed": true
   },
   "outputs": [],
   "source": [
    "logistic = linear_model.LogisticRegression(multi_class='multinomial', solver='lbfgs', C=10)\n",
    "encoder = OneHotEncoder()\n",
    "encoder.fit(allXten)\n",
    "Xtraintensparse = encoder.transform(Xtrainten)\n",
    "Xtesttensparse = encoder.transform(Xtestten)"
   ]
  },
  {
   "cell_type": "code",
   "execution_count": 310,
   "metadata": {
    "collapsed": false
   },
   "outputs": [
    {
     "data": {
      "text/plain": [
       "LogisticRegression(C=10, class_weight=None, dual=False, fit_intercept=True,\n",
       "          intercept_scaling=1, max_iter=100, multi_class='multinomial',\n",
       "          penalty='l2', random_state=None, solver='lbfgs', tol=0.0001,\n",
       "          verbose=0)"
      ]
     },
     "execution_count": 310,
     "metadata": {},
     "output_type": "execute_result"
    }
   ],
   "source": [
    "logistic.fit(Xtraintensparse, ytrainten)"
   ]
  },
  {
   "cell_type": "code",
   "execution_count": 312,
   "metadata": {
    "collapsed": false
   },
   "outputs": [
    {
     "data": {
      "text/plain": [
       "0.58516878142207329"
      ]
     },
     "execution_count": 312,
     "metadata": {},
     "output_type": "execute_result"
    }
   ],
   "source": [
    "logistic.score(Xtraintensparse, ytrainten)"
   ]
  },
  {
   "cell_type": "code",
   "execution_count": 313,
   "metadata": {
    "collapsed": false
   },
   "outputs": [
    {
     "data": {
      "text/plain": [
       "0.52926208651399487"
      ]
     },
     "execution_count": 313,
     "metadata": {},
     "output_type": "execute_result"
    }
   ],
   "source": [
    "logistic.score(Xtesttensparse, ytestten)"
   ]
  },
  {
   "cell_type": "code",
   "execution_count": 314,
   "metadata": {
    "collapsed": false
   },
   "outputs": [
    {
     "data": {
      "text/plain": [
       "Counter({1: 218,\n",
       "         2: 289,\n",
       "         3: 314,\n",
       "         4: 143,\n",
       "         5: 54,\n",
       "         6: 313,\n",
       "         7: 185,\n",
       "         8: 58,\n",
       "         9: 35,\n",
       "         10: 13,\n",
       "         11: 35,\n",
       "         12: 26,\n",
       "         13: 32,\n",
       "         14: 67,\n",
       "         15: 132,\n",
       "         16: 44,\n",
       "         19: 6,\n",
       "         20: 1})"
      ]
     },
     "execution_count": 314,
     "metadata": {},
     "output_type": "execute_result"
    }
   ],
   "source": [
    "Counter(logistic.predict(Xtesttensparse))"
   ]
  },
  {
   "cell_type": "code",
   "execution_count": 315,
   "metadata": {
    "collapsed": false
   },
   "outputs": [
    {
     "data": {
      "text/plain": [
       "Counter({1: 232,\n",
       "         2: 318,\n",
       "         3: 241,\n",
       "         4: 161,\n",
       "         5: 55,\n",
       "         6: 272,\n",
       "         7: 150,\n",
       "         8: 49,\n",
       "         9: 58,\n",
       "         10: 8,\n",
       "         11: 36,\n",
       "         12: 36,\n",
       "         13: 46,\n",
       "         14: 69,\n",
       "         15: 166,\n",
       "         16: 47,\n",
       "         17: 1,\n",
       "         18: 3,\n",
       "         19: 16,\n",
       "         20: 1})"
      ]
     },
     "execution_count": 315,
     "metadata": {},
     "output_type": "execute_result"
    }
   ],
   "source": [
    "Counter(ytestten)"
   ]
  },
  {
   "cell_type": "markdown",
   "metadata": {},
   "source": [
    "## Creating Data for 4 Sequential Classifiers"
   ]
  },
  {
   "cell_type": "code",
   "execution_count": 354,
   "metadata": {
    "collapsed": true
   },
   "outputs": [],
   "source": [
    "with h5py.File('data/chorales.hdf5', \"r\", libver='latest') as f:\n",
    "    Xtrain = f['Xtrain'].value\n",
    "    ytrain = f['ytrain'].value\n",
    "    Xdev = f['Xdev'].value\n",
    "    ydev = f['ydev'].value\n",
    "    Xtest = f['Xtest'].value\n",
    "    ytest = f['ytest'].value"
   ]
  },
  {
   "cell_type": "code",
   "execution_count": 360,
   "metadata": {
    "collapsed": false
   },
   "outputs": [
    {
     "name": "stdout",
     "output_type": "stream",
     "text": [
      "[  1  11  13  17  28 126 154 158 180 202]\n",
      "[1 1 3 4]\n"
     ]
    }
   ],
   "source": [
    "print Xtrain[1, range(0, 10)]\n",
    "print ytrain[0]"
   ]
  },
  {
   "cell_type": "code",
   "execution_count": 335,
   "metadata": {
    "collapsed": false
   },
   "outputs": [
    {
     "name": "stdout",
     "output_type": "stream",
     "text": [
      "[1 9 1 ..., 1 3 3]\n"
     ]
    }
   ],
   "source": [
    "print ytrain[:, 0]"
   ]
  },
  {
   "cell_type": "code",
   "execution_count": 402,
   "metadata": {
    "collapsed": false
   },
   "outputs": [
    {
     "name": "stdout",
     "output_type": "stream",
     "text": [
      "[  1  11  13  16  27 125 154 161 178 203] 1\n",
      "[  1  11  13  16  27 125 154 161 178 203 224] 1\n",
      "[  1  11  13  16  27 125 154 161 178 203 224 278] 3\n",
      "[  1  11  13  16  27 125 154 161 178 203 224 278 295] 4\n",
      "(16708, 10)\n",
      "\n",
      "INDICES\n",
      "0 1 9\n",
      "1 10 11\n",
      "2 12 14\n",
      "3 15 17\n",
      "4 18 124\n",
      "5 125 153\n",
      "6 154 155\n",
      "7 156 177\n",
      "8 178 200\n",
      "9 201 223\n",
      "10 224 277\n",
      "11 278 292\n",
      "12 293 314\n"
     ]
    }
   ],
   "source": [
    "def add_max_index(x):\n",
    "    return x + max_index\n",
    "f = numpy.vectorize(add_max_index)\n",
    "\n",
    "# Roman numeral data\n",
    "Xtrainnum, Xdevnum, Xtestnum = Xtrain[:, range(0, 10)], Xdev[:, range(0, 10)], Xtest[:, range(0, 10)]\n",
    "ytrainnum, ydevnum, ytestnum = ytrain[:, 0], ydev[:, 0], ytest[:, 0]\n",
    "allXnum = numpy.vstack((Xtrainnum, Xdevnum, Xtestnum))\n",
    "allynum = numpy.hstack((ytrainnum, ydevnum, ytestnum))\n",
    "max_index = allXnum.max()\n",
    "\n",
    "# Inversion data\n",
    "Xtraininv = numpy.hstack((Xtrainnum, ytrain[:, range(0,1)]))\n",
    "Xdevinv = numpy.hstack((Xdevnum, ydev[:, range(0,1)]))\n",
    "Xtestinv = numpy.hstack((Xtestnum, ytest[:, range(0,1)]))\n",
    "ytraininv, ydevinv, ytestinv = ytrain[:, 1], ydev[:, 1], ytest[:, 1]\n",
    "allXinv = numpy.vstack((Xtraininv, Xdevinv, Xtestinv))\n",
    "max_index = allXinv.max()\n",
    "Xtraininv[:, 10] = f(Xtraininv[:, 10])\n",
    "Xdevinv[:, 10] = f(Xdevinv[:, 10])\n",
    "Xtestinv[:, 10] = f(Xtestinv[:, 10])\n",
    "allXinv = numpy.vstack((Xtraininv, Xdevinv, Xtestinv))\n",
    "allyinv = numpy.hstack((ytraininv, ydevinv, ytestinv))\n",
    "\n",
    "# Alto data\n",
    "Xtrainalt = numpy.hstack((Xtraininv, ytrain[:, range(1,2)]))\n",
    "Xdevalt = numpy.hstack((Xdevinv, ydev[:, range(1,2)]))\n",
    "Xtestalt = numpy.hstack((Xtestinv, ytest[:, range(1,2)]))\n",
    "ytrainalt, ydevalt, ytestalt = ytrain[:, 2], ydev[:, 2], ytest[:, 2]\n",
    "allXalt = numpy.vstack((Xtrainalt, Xdevalt, Xtestalt))\n",
    "max_index = allXalt.max()\n",
    "Xtrainalt[:, 11] = f(Xtrainalt[:, 11])\n",
    "Xdevalt[:, 11] = f(Xdevalt[:, 11])\n",
    "Xtestalt[:, 11] = f(Xtestalt[:, 11])\n",
    "allXalt = numpy.vstack((Xtrainalt, Xdevalt, Xtestalt))\n",
    "allyalt = numpy.hstack((ytrainalt, ydevalt, ytestalt))\n",
    "\n",
    "# Tenor data\n",
    "Xtrainten = numpy.hstack((Xtrainalt, ytrain[:, range(2,3)]))\n",
    "Xdevten = numpy.hstack((Xdevalt, ydev[:, range(2,3)]))\n",
    "Xtestten = numpy.hstack((Xtestalt, ytest[:, range(2,3)]))\n",
    "ytrainten, ydevten, ytestten = ytrain[:, 3], ydev[:, 3], ytest[:, 3]\n",
    "allXten = numpy.vstack((Xtrainten, Xdevten, Xtestten))\n",
    "max_index = allXten.max()\n",
    "Xtrainten[:, 12] = f(Xtrainten[:, 12])\n",
    "Xdevten[:, 12] = f(Xdevten[:, 12])\n",
    "Xtestten[:, 12] = f(Xtestten[:, 12])\n",
    "allXten = numpy.vstack((Xtrainten, Xdevten, Xtestten))\n",
    "allyten = numpy.hstack((ytrainten, ydevten, ytestten))\n",
    "\n",
    "print Xtrainnum[0], ytrainnum[0]\n",
    "print Xtraininv[0], ytraininv[0]\n",
    "print Xtrainalt[0], ytrainalt[0]\n",
    "print Xtrainten[0], ytrainten[0]\n",
    "\n",
    "print Xtrainnum.shape\n",
    "\n",
    "print \"\\nINDICES\"\n",
    "for i in range(len(allXten[0])):\n",
    "    print i, allXten[:, i].min(), allXten[:, i].max()\n",
    "    \n"
   ]
  },
  {
   "cell_type": "code",
   "execution_count": 403,
   "metadata": {
    "collapsed": false
   },
   "outputs": [],
   "source": [
    "with h5py.File('data/choralesseq.hdf5', \"w\", libver='latest') as f:\n",
    "    f.create_dataset('Xtrainnum', Xtrainnum.shape, dtype=\"i\", data=Xtrainnum)\n",
    "    f.create_dataset('Xdevnum', Xdevnum.shape, dtype=\"i\", data=Xdevnum)\n",
    "    f.create_dataset('Xtestnum', Xtestnum.shape, dtype=\"i\", data=Xtestnum)\n",
    "    f.create_dataset('ytrainnum', ytrainnum.shape, dtype=\"i\", data=ytrainnum)\n",
    "    f.create_dataset('ydevnum', ydevnum.shape, dtype=\"i\", data=ydevnum)\n",
    "    f.create_dataset('ytestnum', ytestnum.shape, dtype=\"i\", data=ytestnum)\n",
    "    f.create_dataset('Xallnum', allXnum.shape, dtype=\"i\", data=allXnum)\n",
    "    f.create_dataset('yallnum', allynum.shape, dtype=\"i\", data=allynum)\n",
    "    f.create_dataset('Xtraininv', Xtraininv.shape, dtype=\"i\", data=Xtraininv)\n",
    "    f.create_dataset('Xdevinv', Xdevinv.shape, dtype=\"i\", data=Xdevinv)\n",
    "    f.create_dataset('Xtestinv', Xtestinv.shape, dtype=\"i\", data=Xtestinv)\n",
    "    f.create_dataset('ytraininv', ytraininv.shape, dtype=\"i\", data=ytraininv)\n",
    "    f.create_dataset('ydevinv', ydevinv.shape, dtype=\"i\", data=ydevinv)\n",
    "    f.create_dataset('ytestinv', ytestinv.shape, dtype=\"i\", data=ytestinv)\n",
    "    f.create_dataset('Xallinv', allXinv.shape, dtype=\"i\", data=allXinv)\n",
    "    f.create_dataset('yallinv', allyinv.shape, dtype=\"i\", data=allyinv)\n",
    "    f.create_dataset('Xtrainalt', Xtrainalt.shape, dtype=\"i\", data=Xtrainalt)\n",
    "    f.create_dataset('Xdevalt', Xdevalt.shape, dtype=\"i\", data=Xdevalt)\n",
    "    f.create_dataset('Xtestalt', Xtestalt.shape, dtype=\"i\", data=Xtestalt)\n",
    "    f.create_dataset('ytrainalt', ytrainalt.shape, dtype=\"i\", data=ytrainalt)\n",
    "    f.create_dataset('ydevalt', ydevalt.shape, dtype=\"i\", data=ydevalt)\n",
    "    f.create_dataset('ytestalt', ytestalt.shape, dtype=\"i\", data=ytestalt)\n",
    "    f.create_dataset('Xallalt', allXalt.shape, dtype=\"i\", data=allXalt)\n",
    "    f.create_dataset('yallalt', allyalt.shape, dtype=\"i\", data=allyalt)\n",
    "    f.create_dataset('Xtrainten', Xtrainten.shape, dtype=\"i\", data=Xtrainten)\n",
    "    f.create_dataset('Xdevten', Xdevten.shape, dtype=\"i\", data=Xdevten)\n",
    "    f.create_dataset('Xtestten', Xtestten.shape, dtype=\"i\", data=Xtestten)\n",
    "    f.create_dataset('ytrainten', ytrainten.shape, dtype=\"i\", data=ytrainten)\n",
    "    f.create_dataset('ydevten', ydevten.shape, dtype=\"i\", data=ydevten)\n",
    "    f.create_dataset('ytestten', ytestten.shape, dtype=\"i\", data=ytestten)\n",
    "    f.create_dataset('Xallten', allXten.shape, dtype=\"i\", data=allXten)\n",
    "    f.create_dataset('yallten', allyten.shape, dtype=\"i\", data=allyten)"
   ]
  },
  {
   "cell_type": "markdown",
   "metadata": {},
   "source": [
    "### Sklearn on the full dataset"
   ]
  },
  {
   "cell_type": "code",
   "execution_count": 4,
   "metadata": {
    "collapsed": false
   },
   "outputs": [],
   "source": [
    "with h5py.File('data/chorales.hdf5', \"r\", libver='latest') as f:\n",
    "    Xtrain = f['Xtrain'].value\n",
    "    ytrain = f['ytrain'].value\n",
    "    Xdev = f['Xdev'].value\n",
    "    ydev = f['ydev'].value\n",
    "    Xtest = f['Xtest'].value\n",
    "    ytest = f['ytest'].value\n",
    "\n",
    "Xall = numpy.vstack((Xtrain, Xdev, Xtest))\n",
    "yall = numpy.vstack((ytrain, ydev, ytest))"
   ]
  },
  {
   "cell_type": "code",
   "execution_count": 11,
   "metadata": {
    "collapsed": false
   },
   "outputs": [
    {
     "name": "stdout",
     "output_type": "stream",
     "text": [
      "54\n",
      "52\n",
      "42\n",
      "54\n"
     ]
    }
   ],
   "source": [
    "print ytrain[:, 0].max()\n",
    "print ydev[:, 0].max()\n",
    "print ytest[:, 0].max()\n",
    "print yall[:, 0].max()"
   ]
  },
  {
   "cell_type": "code",
   "execution_count": 13,
   "metadata": {
    "collapsed": false
   },
   "outputs": [
    {
     "data": {
      "text/plain": [
       "[(1, 1, 7, 6),\n",
       " (1, 1, 7, 2),\n",
       " (3, 1, 2, 2),\n",
       " (18, 1, 11, 3),\n",
       " (3, 1, 11, 3),\n",
       " (3, 7, 7, 15),\n",
       " (39, 13, 5, 16),\n",
       " (21, 13, 4, 6),\n",
       " (4, 1, 6, 6),\n",
       " (11, 3, 4, 6),\n",
       " (4, 1, 7, 6),\n",
       " (7, 1, 11, 7),\n",
       " (18, 7, 11, 9),\n",
       " (3, 12, 11, 9),\n",
       " (18, 10, 11, 7),\n",
       " (18, 1, 11, 3),\n",
       " (3, 1, 1, 13),\n",
       " (1, 2, 13, 2),\n",
       " (6, 2, 7, 6),\n",
       " (1, 1, 7, 3),\n",
       " (3, 1, 7, 3),\n",
       " (3, 1, 7, 8),\n",
       " (1, 6, 15, 4),\n",
       " (2, 6, 11, 16),\n",
       " (10, 1, 7, 16),\n",
       " (3, 3, 7, 6),\n",
       " (13, 3, 2, 10),\n",
       " (34, 3, 1, 9),\n",
       " (1, 2, 4, 9),\n",
       " (46, 4, 6, 16),\n",
       " (6, 7, 12, 6),\n",
       " (4, 1, 12, 10),\n",
       " (18, 3, 8, 9),\n",
       " (15, 1, 8, 9),\n",
       " (1, 3, 5, 9),\n",
       " (8, 5, 5, 16),\n",
       " (8, 2, 7, 16),\n",
       " (8, 10, 7, 16),\n",
       " (8, 10, 7, 6),\n",
       " (1, 1, 7, 6),\n",
       " (1, 1, 6, 7),\n",
       " (9, 1, 4, 7),\n",
       " (11, 2, 7, 2),\n",
       " (13, 1, 2, 2),\n",
       " (9, 1, 11, 3),\n",
       " (9, 1, 1, 3),\n",
       " (8, 2, 7, 1),\n",
       " (10, 6, 2, 2),\n",
       " (11, 1, 5, 2),\n",
       " (12, 2, 4, 6),\n",
       " (10, 1, 5, 6),\n",
       " (2, 1, 6, 7),\n",
       " (9, 1, 6, 3),\n",
       " (8, 2, 7, 3),\n",
       " (14, 3, 2, 8),\n",
       " (3, 1, 11, 3),\n",
       " (9, 1, 6, 7),\n",
       " (9, 1, 4, 7),\n",
       " (11, 2, 7, 2),\n",
       " (13, 1, 2, 2),\n",
       " (9, 1, 11, 3),\n",
       " (9, 1, 1, 3),\n",
       " (8, 2, 7, 1),\n",
       " (10, 6, 2, 2),\n",
       " (11, 1, 5, 2),\n",
       " (12, 2, 4, 6),\n",
       " (10, 1, 5, 6),\n",
       " (2, 1, 6, 7),\n",
       " (9, 1, 6, 3),\n",
       " (8, 2, 7, 3),\n",
       " (14, 3, 2, 8),\n",
       " (3, 1, 11, 3),\n",
       " (9, 1, 4, 4),\n",
       " (10, 2, 4, 2),\n",
       " (11, 1, 4, 4),\n",
       " (15, 1, 1, 1),\n",
       " (10, 1, 2, 3),\n",
       " (2, 13, 5, 2),\n",
       " (12, 2, 6, 7),\n",
       " (9, 2, 8, 7),\n",
       " (3, 1, 6, 7),\n",
       " (9, 1, 6, 6),\n",
       " (2, 2, 5, 6),\n",
       " (2, 1, 2, 4),\n",
       " (11, 2, 1, 1),\n",
       " (10, 1, 7, 2),\n",
       " (13, 2, 7, 2),\n",
       " (13, 2, 2, 7),\n",
       " (11, 1, 6, 16),\n",
       " (39, 4, 4, 6),\n",
       " (10, 1, 6, 6),\n",
       " (8, 2, 8, 7),\n",
       " (11, 13, 6, 3),\n",
       " (8, 2, 7, 3),\n",
       " (14, 3, 2, 8),\n",
       " (3, 1, 15, 12),\n",
       " (9, 1, 1, 15),\n",
       " (9, 1, 1, 15),\n",
       " (9, 1, 7, 6),\n",
       " (11, 2, 7, 2),\n",
       " (10, 1, 1, 15),\n",
       " (9, 1, 4, 15),\n",
       " (13, 1, 13, 3),\n",
       " (14, 2, 7, 15),\n",
       " (11, 1, 7, 15),\n",
       " (11, 1, 7, 6),\n",
       " (11, 1, 4, 15),\n",
       " (9, 1, 6, 2),\n",
       " (10, 1, 12, 15),\n",
       " (9, 1, 12, 10),\n",
       " (8, 3, 6, 9),\n",
       " (10, 1, 7, 6),\n",
       " (11, 1, 4, 6),\n",
       " (9, 1, 4, 16),\n",
       " (13, 1, 12, 9),\n",
       " (11, 8, 12, 9),\n",
       " (7, 10, 7, 2),\n",
       " (10, 7, 7, 15),\n",
       " (11, 2, 7, 3),\n",
       " (10, 1, 7, 15),\n",
       " (11, 1, 7, 15),\n",
       " (11, 1, 7, 15),\n",
       " (11, 1, 7, 15),\n",
       " (11, 2, 7, 15),\n",
       " (7, 10, 1, 3),\n",
       " (3, 3, 1, 3),\n",
       " (9, 5, 2, 4),\n",
       " (18, 3, 1, 3),\n",
       " (15, 1, 1, 15),\n",
       " (11, 1, 4, 6),\n",
       " (9, 1, 12, 15),\n",
       " (9, 1, 12, 4),\n",
       " (2, 3, 6, 6),\n",
       " (3, 2, 4, 6),\n",
       " (9, 1, 5, 3),\n",
       " (3, 1, 1, 15),\n",
       " (1, 1, 1, 1),\n",
       " (1, 1, 4, 6),\n",
       " (1, 1, 6, 6),\n",
       " (3, 2, 4, 6),\n",
       " (1, 1, 5, 6),\n",
       " (3, 1, 4, 6),\n",
       " (1, 1, 4, 7),\n",
       " (17, 2, 5, 3),\n",
       " (3, 1, 6, 2),\n",
       " (5, 1, 6, 6),\n",
       " (3, 2, 4, 6),\n",
       " (1, 1, 4, 1),\n",
       " (18, 3, 2, 3),\n",
       " (5, 11, 1, 4),\n",
       " (1, 1, 1, 5),\n",
       " (3, 1, 1, 1),\n",
       " (1, 1, 5, 6),\n",
       " (3, 1, 4, 6),\n",
       " (1, 1, 4, 6),\n",
       " (1, 2, 4, 6),\n",
       " (3, 9, 5, 3),\n",
       " (3, 2, 2, 1),\n",
       " (4, 3, 2, 3),\n",
       " (18, 1, 5, 3),\n",
       " (3, 1, 1, 4),\n",
       " (1, 1, 2, 4),\n",
       " (2, 2, 1, 1),\n",
       " (1, 1, 5, 7),\n",
       " (25, 13, 2, 1),\n",
       " (4, 1, 1, 1),\n",
       " (1, 2, 1, 3),\n",
       " (3, 1, 1, 1),\n",
       " (1, 1, 11, 3),\n",
       " (1, 1, 1, 15),\n",
       " (5, 7, 7, 2),\n",
       " (1, 1, 7, 6),\n",
       " (2, 2, 7, 2),\n",
       " (1, 2, 6, 9),\n",
       " (1, 2, 6, 9),\n",
       " (23, 4, 12, 10),\n",
       " (6, 7, 7, 6),\n",
       " (4, 1, 7, 6),\n",
       " (4, 1, 1, 3),\n",
       " (4, 1, 2, 15),\n",
       " (40, 7, 7, 13),\n",
       " (4, 2, 4, 6),\n",
       " (5, 9, 5, 16),\n",
       " (22, 3, 6, 6),\n",
       " (13, 3, 6, 6),\n",
       " (5, 5, 4, 2),\n",
       " (7, 4, 11, 7),\n",
       " (3, 1, 11, 7),\n",
       " (3, 1, 11, 9),\n",
       " (1, 1, 11, 16),\n",
       " (1, 6, 1, 6),\n",
       " (2, 1, 7, 6),\n",
       " (2, 1, 7, 15),\n",
       " (5, 4, 7, 6),\n",
       " (4, 1, 7, 6),\n",
       " (5, 3, 2, 2),\n",
       " (3, 1, 11, 3),\n",
       " (1, 1, 11, 3),\n",
       " (1, 1, 11, 3),\n",
       " (1, 1, 11, 3),\n",
       " (1, 1, 11, 3),\n",
       " (1, 1, 1, 15),\n",
       " (5, 7, 7, 2),\n",
       " (1, 1, 7, 6),\n",
       " (2, 2, 7, 2),\n",
       " (1, 2, 6, 9),\n",
       " (1, 2, 6, 9),\n",
       " (23, 4, 12, 10),\n",
       " (6, 7, 7, 6),\n",
       " (4, 1, 7, 6),\n",
       " (4, 1, 1, 3),\n",
       " (4, 1, 2, 15),\n",
       " (40, 7, 7, 13),\n",
       " (4, 2, 4, 6),\n",
       " (5, 9, 5, 16),\n",
       " (22, 3, 6, 6),\n",
       " (13, 3, 6, 6),\n",
       " (5, 5, 4, 2),\n",
       " (7, 4, 11, 7),\n",
       " (3, 1, 11, 7),\n",
       " (3, 1, 11, 9),\n",
       " (1, 1, 11, 16),\n",
       " (1, 6, 1, 6),\n",
       " (2, 1, 7, 6),\n",
       " (2, 1, 7, 15),\n",
       " (5, 4, 7, 6),\n",
       " (4, 1, 7, 6),\n",
       " (5, 3, 2, 2),\n",
       " (3, 1, 11, 3),\n",
       " (1, 1, 11, 3),\n",
       " (1, 1, 11, 3),\n",
       " (1, 1, 11, 3),\n",
       " (1, 1, 7, 3),\n",
       " (1, 2, 7, 2),\n",
       " (8, 5, 7, 2),\n",
       " (3, 9, 13, 2),\n",
       " (22, 6, 1, 15),\n",
       " (5, 1, 4, 15),\n",
       " (10, 1, 4, 16),\n",
       " (20, 3, 5, 6),\n",
       " (13, 1, 1, 15),\n",
       " (5, 1, 1, 15),\n",
       " (5, 1, 7, 3),\n",
       " (1, 2, 13, 9),\n",
       " (1, 3, 1, 9),\n",
       " (2, 1, 12, 10),\n",
       " (6, 2, 6, 9),\n",
       " (4, 1, 7, 6),\n",
       " (4, 1, 7, 6),\n",
       " (5, 3, 2, 2),\n",
       " (3, 1, 11, 3),\n",
       " (1, 1, 11, 3),\n",
       " (1, 1, 12, 6),\n",
       " (1, 1, 12, 16),\n",
       " (2, 1, 6, 2),\n",
       " (3, 1, 12, 15),\n",
       " (4, 1, 7, 15),\n",
       " (1, 2, 6, 9),\n",
       " (3, 1, 6, 9),\n",
       " (3, 1, 12, 9),\n",
       " (1, 1, 12, 15),\n",
       " (17, 2, 6, 2),\n",
       " (3, 1, 6, 2),\n",
       " (3, 1, 6, 2),\n",
       " (3, 1, 12, 15),\n",
       " (1, 2, 12, 16),\n",
       " (2, 1, 6, 2),\n",
       " (3, 1, 7, 3),\n",
       " (3, 7, 4, 17),\n",
       " (5, 1, 12, 13),\n",
       " (1, 2, 6, 9),\n",
       " (3, 1, 7, 6),\n",
       " (1, 1, 7, 6),\n",
       " (1, 1, 7, 2),\n",
       " (3, 2, 4, 15),\n",
       " (2, 2, 7, 6),\n",
       " (1, 1, 6, 2),\n",
       " (3, 2, 6, 2),\n",
       " (3, 2, 6, 9),\n",
       " (3, 1, 7, 9),\n",
       " (1, 2, 2, 2),\n",
       " (18, 1, 11, 3),\n",
       " (3, 1, 11, 3),\n",
       " (3, 1, 11, 3),\n",
       " (3, 1, 11, 3),\n",
       " (3, 1, 7, 15),\n",
       " (1, 2, 6, 16),\n",
       " (6, 2, 12, 9),\n",
       " (1, 1, 10, 6),\n",
       " (1, 5, 22, 1),\n",
       " (13, 4, 10, 4),\n",
       " (5, 1, 12, 5),\n",
       " (1, 1, 4, 4),\n",
       " (5, 2, 5, 3),\n",
       " (11, 1, 5, 3),\n",
       " (11, 1, 5, 3),\n",
       " (11, 1, 12, 15),\n",
       " (4, 1, 6, 6),\n",
       " (7, 1, 10, 7),\n",
       " (18, 1, 10, 9),\n",
       " (3, 2, 6, 16),\n",
       " (3, 4, 7, 6),\n",
       " (1, 1, 4, 15),\n",
       " (17, 2, 6, 2),\n",
       " (3, 1, 12, 6),\n",
       " (1, 1, 4, 16),\n",
       " (2, 1, 12, 9),\n",
       " (1, 2, 6, 9),\n",
       " (3, 1, 4, 15),\n",
       " (2, 2, 7, 6),\n",
       " (1, 1, 6, 9),\n",
       " (3, 1, 7, 6),\n",
       " (1, 1, 4, 16),\n",
       " (2, 1, 4, 16),\n",
       " (5, 1, 4, 2),\n",
       " (5, 1, 12, 6),\n",
       " (4, 1, 12, 15),\n",
       " (1, 2, 12, 6),\n",
       " (1, 9, 6, 9),\n",
       " (3, 2, 12, 9),\n",
       " (1, 2, 7, 2),\n",
       " (18, 10, 11, 3),\n",
       " (3, 1, 11, 3),\n",
       " (3, 1, 11, 3),\n",
       " (3, 1, 7, 3),\n",
       " (7, 1, 1, 15),\n",
       " (4, 1, 7, 6),\n",
       " (7, 11, 1, 15),\n",
       " (1, 1, 13, 2),\n",
       " (1, 1, 4, 6),\n",
       " (13, 3, 4, 2),\n",
       " (5, 1, 4, 15),\n",
       " (4, 1, 4, 4),\n",
       " (5, 2, 13, 2),\n",
       " (5, 2, 13, 2),\n",
       " (3, 4, 1, 15),\n",
       " (1, 1, 7, 3),\n",
       " (3, 1, 7, 15),\n",
       " (1, 1, 7, 15),\n",
       " (1, 2, 7, 15),\n",
       " (2, 5, 13, 15),\n",
       " (2, 1, 1, 15),\n",
       " (1, 1, 7, 2),\n",
       " (3, 2, 7, 2),\n",
       " (1, 5, 4, 15),\n",
       " (4, 1, 4, 15),\n",
       " (5, 3, 7, 3),\n",
       " (3, 1, 1, 13),\n",
       " (11, 1, 2, 1),\n",
       " (7, 1, 4, 2),\n",
       " (3, 9, 4, 7),\n",
       " (4, 3, 5, 6),\n",
       " (18, 1, 4, 6),\n",
       " (3, 1, 4, 6),\n",
       " (3, 1, 7, 6),\n",
       " (5, 1, 2, 2),\n",
       " (4, 1, 6, 7),\n",
       " (4, 2, 4, 7),\n",
       " (7, 1, 4, 7),\n",
       " (4, 3, 5, 3),\n",
       " (18, 1, 1, 1),\n",
       " (3, 1, 1, 1),\n",
       " (3, 1, 7, 6),\n",
       " (5, 1, 1, 3),\n",
       " (5, 2, 1, 15),\n",
       " (15, 7, 1, 3),\n",
       " (5, 2, 1, 15),\n",
       " (20, 3, 15, 12),\n",
       " (13, 9, 16, 13),\n",
       " (5, 1, 16, 13),\n",
       " (5, 1, 1, 13),\n",
       " (5, 1, 2, 12),\n",
       " (13, 2, 2, 3),\n",
       " (2, 4, 1, 1),\n",
       " (7, 4, 7, 3),\n",
       " (2, 2, 2, 6),\n",
       " (11, 3, 4, 3),\n",
       " (4, 11, 4, 1),\n",
       " (3, 9, 4, 7),\n",
       " (4, 3, 5, 3),\n",
       " (18, 1, 1, 1),\n",
       " (3, 1, 1, 1),\n",
       " (3, 1, 2, 2),\n",
       " (1, 1, 1, 15),\n",
       " (10, 2, 11, 3),\n",
       " (2, 1, 2, 2),\n",
       " (1, 1, 2, 15),\n",
       " (22, 6, 1, 3),\n",
       " (5, 1, 11, 3),\n",
       " (4, 9, 3, 8),\n",
       " (11, 1, 3, 8),\n",
       " (11, 1, 3, 8),\n",
       " (11, 1, 3, 4),\n",
       " (7, 1, 11, 3),\n",
       " (4, 2, 16, 5),\n",
       " (18, 7, 3, 4),\n",
       " (3, 2, 1, 4),\n",
       " (3, 2, 2, 2),\n",
       " (1, 2, 11, 3),\n",
       " (4, 9, 7, 4),\n",
       " (3, 11, 4, 4),\n",
       " (1, 2, 7, 3),\n",
       " (2, 1, 7, 4),\n",
       " (8, 10, 2, 4),\n",
       " (1, 1, 4, 3),\n",
       " (4, 4, 5, 3),\n",
       " (18, 4, 5, 1),\n",
       " (3, 4, 15, 7),\n",
       " (2, 4, 11, 1),\n",
       " (3, 10, 6, 3),\n",
       " (2, 1, 6, 1),\n",
       " (3, 5, 5, 6),\n",
       " (25, 13, 2, 4),\n",
       " (7, 1, 2, 4),\n",
       " (7, 1, 11, 4),\n",
       " (1, 2, 3, 4),\n",
       " (3, 1, 11, 4),\n",
       " (1, 2, 7, 2),\n",
       " (5, 4, 2, 4),\n",
       " (1, 1, 7, 3),\n",
       " (2, 2, 7, 3),\n",
       " (2, 9, 2, 4),\n",
       " (1, 1, 2, 2),\n",
       " (4, 1, 6, 7),\n",
       " (4, 2, 4, 7),\n",
       " (7, 1, 5, 7),\n",
       " (23, 11, 1, 1),\n",
       " (3, 1, 7, 6),\n",
       " (5, 1, 6, 6),\n",
       " (5, 2, 7, 6),\n",
       " (3, 3, 1, 3),\n",
       " (5, 1, 15, 15),\n",
       " (22, 13, 16, 13),\n",
       " (5, 1, 16, 13),\n",
       " (5, 1, 16, 13),\n",
       " (5, 1, 1, 3),\n",
       " (5, 2, 7, 6),\n",
       " (10, 4, 2, 4),\n",
       " (1, 1, 2, 3),\n",
       " (4, 2, 7, 4),\n",
       " (3, 11, 4, 12),\n",
       " (1, 2, 1, 1),\n",
       " (3, 1, 4, 7),\n",
       " (4, 3, 5, 3),\n",
       " (18, 1, 1, 1),\n",
       " (3, 1, 1, 1),\n",
       " (3, 1, 2, 2),\n",
       " (1, 1, 7, 15),\n",
       " (10, 7, 7, 2),\n",
       " (2, 1, 7, 6),\n",
       " (15, 3, 2, 2),\n",
       " (1, 1, 1, 3),\n",
       " (5, 1, 3, 8),\n",
       " (11, 7, 11, 3),\n",
       " (4, 2, 11, 3),\n",
       " (4, 9, 3, 8),\n",
       " (11, 1, 4, 7),\n",
       " (7, 1, 4, 7),\n",
       " (7, 1, 4, 7),\n",
       " (1, 2, 4, 7),\n",
       " (1, 5, 4, 1),\n",
       " (3, 1, 4, 1),\n",
       " (3, 1, 4, 1),\n",
       " (3, 1, 4, 6),\n",
       " (3, 1, 4, 6),\n",
       " (3, 2, 6, 7),\n",
       " (4, 9, 4, 6),\n",
       " (3, 1, 5, 7),\n",
       " (23, 11, 1, 1),\n",
       " (3, 1, 1, 1),\n",
       " (3, 1, 4, 7),\n",
       " (7, 1, 6, 7),\n",
       " (4, 5, 6, 6),\n",
       " (25, 4, 4, 6),\n",
       " (3, 12, 4, 1),\n",
       " (3, 1, 5, 3),\n",
       " (17, 7, 3, 4),\n",
       " (7, 1, 2, 5),\n",
       " (23, 11, 3, 4),\n",
       " (3, 1, 1, 13),\n",
       " (5, 1, 1, 2),\n",
       " (5, 3, 1, 15),\n",
       " (15, 1, 1, 15),\n",
       " (15, 4, 15, 12),\n",
       " (13, 9, 16, 5),\n",
       " (18, 1, 16, 5),\n",
       " (18, 1, 1, 1),\n",
       " (25, 9, 2, 14),\n",
       " (13, 9, 5, 6),\n",
       " (18, 2, 2, 2),\n",
       " (1, 2, 5, 2),\n",
       " (17, 7, 2, 5),\n",
       " (34, 13, 4, 3),\n",
       " (4, 11, 5, 4),\n",
       " (3, 4, 2, 1),\n",
       " (4, 13, 5, 3),\n",
       " (18, 1, 1, 1),\n",
       " (3, 1, 1, 1),\n",
       " (3, 1, 1, 1),\n",
       " (3, 1, 1, 3),\n",
       " (5, 1, 7, 13),\n",
       " (5, 1, 1, 12),\n",
       " (7, 11, 15, 12),\n",
       " (13, 4, 1, 3),\n",
       " (5, 9, 15, 1),\n",
       " (13, 5, 11, 3),\n",
       " (4, 2, 3, 3),\n",
       " (4, 10, 3, 8),\n",
       " (2, 1, 13, 2),\n",
       " (8, 1, 4, 2),\n",
       " (8, 2, 7, 6),\n",
       " (32, 2, 4, 16),\n",
       " (8, 1, 4, 6),\n",
       " (1, 2, 4, 2),\n",
       " (8, 1, 4, 2),\n",
       " (8, 10, 4, 1),\n",
       " (1, 1, 4, 2),\n",
       " (8, 1, 4, 16),\n",
       " (8, 1, 7, 2),\n",
       " (16, 2, 8, 2),\n",
       " (24, 7, 8, 2),\n",
       " (33, 3, 4, 1),\n",
       " (1, 1, 13, 4),\n",
       " (8, 1, 13, 4),\n",
       " (8, 1, 13, 2),\n",
       " (8, 1, 4, 6),\n",
       " (9, 2, 11, 16),\n",
       " (24, 1, 13, 15),\n",
       " (31, 2, 7, 15),\n",
       " (16, 10, 13, 15),\n",
       " (13, 1, 1, 15),\n",
       " (11, 1, 1, 15),\n",
       " (11, 1, 7, 15),\n",
       " (11, 2, 13, 15),\n",
       " (13, 1, 13, 2),\n",
       " (24, 1, 4, 15),\n",
       " (13, 2, 13, 15),\n",
       " (31, 9, 1, 15),\n",
       " (11, 1, 14, 4),\n",
       " (13, 1, 14, 4),\n",
       " (13, 1, 13, 15),\n",
       " (13, 1, 13, 2),\n",
       " (14, 9, 7, 6),\n",
       " (32, 2, 4, 6),\n",
       " (1, 1, 4, 16),\n",
       " (8, 2, 8, 9),\n",
       " (29, 2, 4, 6),\n",
       " (1, 1, 4, 6),\n",
       " (1, 1, 4, 16),\n",
       " (8, 2, 4, 6),\n",
       " (8, 5, 4, 2),\n",
       " (8, 1, 4, 16),\n",
       " (8, 1, 7, 2),\n",
       " (16, 2, 4, 2),\n",
       " (8, 9, 4, 2),\n",
       " (8, 10, 4, 1),\n",
       " (1, 1, 4, 2),\n",
       " (8, 2, 4, 16),\n",
       " (8, 1, 7, 2),\n",
       " (25, 1, 13, 1),\n",
       " (13, 13, 13, 2),\n",
       " (24, 4, 11, 2),\n",
       " (16, 2, 1, 1),\n",
       " (1, 1, 1, 1),\n",
       " (1, 1, 4, 2),\n",
       " (8, 2, 4, 2),\n",
       " (8, 2, 7, 2),\n",
       " (25, 1, 11, 8),\n",
       " (16, 2, 11, 4),\n",
       " (8, 9, 3, 4),\n",
       " (1, 1, 17, 12),\n",
       " (2, 1, 17, 12),\n",
       " (1, 1, 3, 4),\n",
       " (9, 1, 3, 5),\n",
       " (1, 5, 2, 4),\n",
       " (13, 4, 2, 5),\n",
       " (30, 11, 13, 5),\n",
       " (3, 1, 2, 1),\n",
       " (9, 2, 2, 1),\n",
       " (9, 1, 2, 7),\n",
       " (13, 1, 2, 14),\n",
       " (17, 4, 2, 5),\n",
       " (3, 9, 3, 4),\n",
       " (9, 1, 3, 4),\n",
       " (9, 1, 2, 1),\n",
       " (9, 1, 2, 2),\n",
       " (13, 1, 1, 4),\n",
       " (11, 2, 11, 4),\n",
       " (13, 1, 1, 4),\n",
       " (13, 1, 2, 2),\n",
       " (8, 1, 4, 6),\n",
       " (11, 1, 5, 2),\n",
       " (14, 2, 5, 1),\n",
       " (11, 3, 2, 1),\n",
       " (3, 9, 3, 4),\n",
       " (9, 1, 3, 4),\n",
       " (9, 1, 2, 1),\n",
       " (9, 1, 4, 6),\n",
       " (11, 2, 2, 2),\n",
       " (13, 1, 11, 4),\n",
       " (13, 2, 2, 4),\n",
       " (13, 1, 2, 2),\n",
       " (8, 1, 4, 6),\n",
       " (11, 1, 4, 6),\n",
       " (7, 10, 1, 1),\n",
       " (11, 1, 1, 1),\n",
       " (11, 1, 1, 1),\n",
       " (11, 1, 4, 6),\n",
       " (11, 2, 2, 2),\n",
       " (13, 1, 5, 3),\n",
       " (10, 1, 4, 4),\n",
       " (9, 1, 2, 1),\n",
       " (9, 1, 1, 4),\n",
       " (11, 1, 4, 7),\n",
       " (2, 3, 5, 1),\n",
       " (9, 5, 2, 2),\n",
       " (14, 3, 3, 8),\n",
       " (1, 1, 3, 8),\n",
       " (1, 1, 3, 8),\n",
       " (1, 1, 3, 8),\n",
       " (2, 1, 1, 15),\n",
       " (11, 1, 11, 8),\n",
       " (16, 1, 13, 4),\n",
       " (13, 1, 13, 8),\n",
       " (24, 1, 4, 16),\n",
       " (13, 2, 4, 2),\n",
       " (8, 2, 4, 1),\n",
       " (1, 1, 4, 16),\n",
       " (8, 1, 4, 6),\n",
       " (9, 1, 4, 2),\n",
       " (8, 1, 4, 6),\n",
       " (9, 2, 8, 9),\n",
       " (16, 2, 7, 13),\n",
       " (11, 2, 7, 8),\n",
       " (25, 1, 2, 2),\n",
       " (2, 1, 11, 8),\n",
       " (25, 1, 11, 8),\n",
       " (25, 1, 7, 13),\n",
       " (26, 1, 4, 14),\n",
       " (27, 2, 8, 16),\n",
       " (24, 1, 4, 16),\n",
       " (13, 1, 10, 10),\n",
       " (8, 1, 9, 10),\n",
       " (1, 1, 4, 16),\n",
       " (8, 1, 4, 6),\n",
       " (9, 1, 4, 2),\n",
       " (8, 1, 10, 13),\n",
       " (15, 4, 12, 8),\n",
       " (16, 10, 4, 15),\n",
       " (27, 9, 7, 2),\n",
       " (16, 9, 2, 15),\n",
       " (2, 6, 11, 8),\n",
       " (25, 1, 11, 8),\n",
       " (25, 1, 7, 13),\n",
       " (11, 2, 13, 15),\n",
       " (28, 1, 13, 15),\n",
       " (13, 1, 4, 16),\n",
       " (8, 1, 4, 6),\n",
       " (8, 10, 4, 6),\n",
       " (1, 1, 4, 16),\n",
       " (8, 1, 4, 16),\n",
       " (8, 1, 10, 16),\n",
       " (10, 3, 12, 6),\n",
       " (11, 1, 12, 16),\n",
       " (13, 1, 10, 2),\n",
       " (24, 1, 8, 6),\n",
       " (29, 2, 1, 1),\n",
       " (1, 1, 13, 4),\n",
       " (8, 1, 4, 1),\n",
       " (1, 1, 4, 2),\n",
       " (8, 1, 7, 8),\n",
       " (29, 2, 13, 2),\n",
       " (24, 1, 4, 7),\n",
       " (12, 2, 11, 10),\n",
       " (2, 2, 7, 2),\n",
       " (25, 1, 2, 2),\n",
       " (2, 1, 11, 8),\n",
       " (25, 1, 7, 13),\n",
       " (26, 1, 4, 14),\n",
       " (27, 2, 4, 2),\n",
       " (24, 4, 7, 14),\n",
       " (26, 1, 4, 14),\n",
       " (27, 2, 2, 4),\n",
       " (2, 1, 11, 8),\n",
       " (25, 1, 10, 13),\n",
       " (10, 1, 12, 6),\n",
       " (11, 1, 12, 9),\n",
       " (11, 2, 12, 16),\n",
       " (13, 1, 10, 2),\n",
       " (16, 2, 4, 2),\n",
       " (8, 9, 7, 1),\n",
       " (1, 6, 2, 4),\n",
       " (1, 1, 6, 7),\n",
       " (1, 1, 5, 6),\n",
       " (2, 1, 8, 6),\n",
       " (6, 2, 6, 7),\n",
       " (1, 1, 18, 14),\n",
       " (20, 2, 18, 3),\n",
       " (2, 3, 9, 1),\n",
       " (6, 1, 8, 14),\n",
       " (11, 2, 5, 3),\n",
       " (4, 1, 2, 3),\n",
       " (1, 2, 6, 7),\n",
       " (1, 2, 8, 7),\n",
       " (3, 1, 8, 9),\n",
       " (11, 1, 8, 14),\n",
       " (4, 1, 2, 1),\n",
       " (3, 9, 2, 1),\n",
       " (3, 1, 3, 8),\n",
       " (3, 7, 2, 3),\n",
       " (1, 2, 5, 6),\n",
       " (5, 1, 6, 7),\n",
       " (1, 1, 9, 11),\n",
       " (5, 2, 8, 1),\n",
       " (3, 1, 8, 1),\n",
       " (3, 1, 8, 1),\n",
       " (3, 1, 8, 8),\n",
       " (11, 2, 5, 14),\n",
       " (4, 1, 2, 1),\n",
       " (3, 2, 2, 3),\n",
       " (1, 1, 5, 14),\n",
       " (13, 3, 5, 1),\n",
       " (5, 1, 7, 8),\n",
       " (21, 2, 5, 15),\n",
       " (13, 1, 5, 3),\n",
       " (4, 1, 2, 3),\n",
       " (1, 2, 6, 3),\n",
       " (1, 2, 5, 3),\n",
       " (18, 3, 2, 8),\n",
       " (7, 2, 5, 14),\n",
       " (4, 7, 5, 1),\n",
       " (18, 3, 2, 1),\n",
       " (3, 1, 3, 8),\n",
       " (3, 7, 2, 3),\n",
       " (1, 2, 5, 6),\n",
       " (5, 1, 6, 7),\n",
       " (1, 1, 6, 11),\n",
       " (4, 11, 6, 7),\n",
       " (1, 9, 8, 6),\n",
       " (3, 4, 2, 14),\n",
       " (1, 1, 11, 3),\n",
       " (1, 1, 11, 2),\n",
       " (1, 2, 13, 2),\n",
       " (8, 10, 2, 4),\n",
       " (3, 7, 7, 2),\n",
       " (1, 2, 6, 2),\n",
       " (4, 3, 4, 1),\n",
       " (18, 1, 2, 4),\n",
       " (3, 1, 2, 3),\n",
       " (7, 1, 2, 3),\n",
       " (4, 1, 1, 4),\n",
       " (25, 4, 11, 13),\n",
       " (1, 1, 7, 13),\n",
       " (2, 2, 7, 2),\n",
       " (1, 9, 2, 2),\n",
       " (3, 1, 11, 3),\n",
       " (1, 1, 11, 3),\n",
       " (1, 1, 11, 2),\n",
       " (1, 2, 13, 2),\n",
       " (8, 10, 2, 4),\n",
       " (3, 7, 7, 2),\n",
       " (1, 2, 6, 2),\n",
       " (4, 3, 4, 1),\n",
       " (18, 1, 2, 4),\n",
       " (3, 1, 2, 3),\n",
       " (7, 1, 2, 3),\n",
       " (4, 1, 1, 4),\n",
       " (25, 4, 11, 13),\n",
       " (1, 1, 7, 13),\n",
       " (2, 2, 7, 2),\n",
       " (1, 9, 2, 2),\n",
       " (3, 1, 11, 3),\n",
       " (1, 1, 7, 2),\n",
       " (1, 1, 7, 2),\n",
       " (1, 1, 7, 6),\n",
       " (4, 1, 7, 6),\n",
       " (18, 3, 2, 3),\n",
       " (11, 2, 1, 3),\n",
       " (4, 1, 11, 3),\n",
       " (4, 3, 17, 12),\n",
       " (3, 1, 13, 13),\n",
       " (1, 3, 1, 13),\n",
       " (2, 1, 7, 3),\n",
       " (1, 1, 4, 2),\n",
       " (1, 5, 7, 2),\n",
       " (1, 1, 6, 16),\n",
       " (1, 6, 4, 6),\n",
       " (5, 1, 4, 6),\n",
       " (5, 10, 4, 6),\n",
       " (5, 2, 4, 7),\n",
       " (3, 1, 7, 7),\n",
       " (4, 1, 4, 6),\n",
       " (25, 4, 4, 2),\n",
       " (1, 5, 7, 2),\n",
       " (1, 2, 7, 13),\n",
       " (4, 1, 7, 6),\n",
       " (5, 3, 2, 2),\n",
       " (3, 1, 11, 3),\n",
       " (1, 1, 11, 3),\n",
       " (1, 1, 11, 3),\n",
       " (1, 1, 14, 4),\n",
       " (1, 1, 14, 4),\n",
       " (1, 5, 13, 16),\n",
       " (1, 2, 4, 14),\n",
       " (1, 6, 13, 2),\n",
       " (2, 1, 7, 8),\n",
       " (6, 2, 4, 15),\n",
       " (1, 1, 4, 15),\n",
       " (1, 1, 7, 15),\n",
       " (3, 1, 12, 15),\n",
       " (1, 2, 12, 15),\n",
       " (3, 2, 4, 15),\n",
       " (1, 1, 4, 15),\n",
       " (4, 4, 7, 15),\n",
       " (3, 1, 4, 15),\n",
       " (4, 3, 7, 3),\n",
       " (18, 1, 1, 13),\n",
       " (3, 1, 1, 13),\n",
       " (3, 1, 4, 15),\n",
       " (1, 1, 4, 15),\n",
       " (1, 2, 7, 6),\n",
       " (3, 1, 7, 6),\n",
       " (3, 2, 4, 2),\n",
       " (5, 5, 7, 15),\n",
       " (3, 3, 13, 15),\n",
       " (1, 1, 13, 15),\n",
       " (1, 1, 7, 6),\n",
       " (3, 1, 13, 15),\n",
       " (1, 2, 7, 15),\n",
       " (15, 3, 7, 15),\n",
       " (1, 5, 13, 2),\n",
       " (5, 3, 1, 15),\n",
       " (3, 1, 14, 4),\n",
       " (1, 1, 14, 4),\n",
       " (1, 1, 1, 15),\n",
       " (3, 1, 1, 15),\n",
       " (7, 4, 13, 15),\n",
       " (1, 1, 7, 6),\n",
       " (3, 2, 7, 2),\n",
       " (18, 10, 7, 16),\n",
       " (18, 4, 7, 6),\n",
       " (3, 1, 7, 6),\n",
       " (3, 1, 7, 2),\n",
       " (5, 2, 8, 6),\n",
       " (47, 6, 4, 2),\n",
       " (4, 1, 4, 2),\n",
       " (4, 1, 7, 9),\n",
       " (3, 2, 8, 9),\n",
       " (15, 3, 7, 16),\n",
       " (5, 4, 13, 15),\n",
       " (1, 2, 13, 2),\n",
       " (5, 3, 1, 15),\n",
       " (3, 1, 14, 4),\n",
       " (1, 1, 14, 4),\n",
       " (1, 1, 14, 4),\n",
       " (1, 1, 14, 4),\n",
       " (1, 1, 2, 3),\n",
       " (3, 2, 1, 3),\n",
       " (1, 1, 15, 4),\n",
       " (6, 2, 1, 3),\n",
       " (1, 2, 5, 6),\n",
       " (1, 1, 4, 6),\n",
       " (2, 1, 4, 6),\n",
       " (2, 1, 4, 6),\n",
       " (2, 1, 2, 6),\n",
       " (18, 3, 2, 14),\n",
       " (3, 1, 15, 3),\n",
       " (3, 1, 1, 3),\n",
       " (1, 2, 2, 3),\n",
       " (15, 3, 1, 3),\n",
       " (1, 1, 15, 3),\n",
       " (3, 1, 16, 5),\n",
       " (1, 1, 1, 3),\n",
       " (1, 2, 1, 4),\n",
       " (2, 1, 4, 1),\n",
       " (5, 1, 4, 14),\n",
       " (3, 4, 2, 6),\n",
       " (5, 10, 1, 3),\n",
       " (1, 1, 1, 3),\n",
       " (1, 1, 1, 3),\n",
       " (1, 1, 2, 3),\n",
       " (3, 2, 1, 3),\n",
       " (1, 1, 1, 1),\n",
       " (34, 4, 15, 3),\n",
       " (7, 1, 5, 3),\n",
       " (7, 10, 2, 3),\n",
       " (3, 9, 2, 8),\n",
       " (18, 1, 2, 14),\n",
       " (3, 1, 2, 14),\n",
       " (3, 1, 5, 6),\n",
       " (1, 1, 5, 6),\n",
       " (1, 1, 6, 3),\n",
       " (1, 2, 5, 6),\n",
       " (1, 6, 4, 6),\n",
       " (2, 1, 4, 6),\n",
       " (2, 1, 4, 6),\n",
       " (2, 1, 6, 11),\n",
       " (13, 3, 6, 7),\n",
       " (18, 10, 8, 1),\n",
       " (18, 1, 8, 1),\n",
       " (25, 4, 5, 3),\n",
       " (1, 5, 2, 3),\n",
       " (3, 1, 2, 3),\n",
       " (3, 1, 2, 3),\n",
       " (3, 1, 1, 3),\n",
       " (1, 2, 1, 4),\n",
       " (2, 1, 1, 3),\n",
       " (1, 2, 4, 7),\n",
       " (5, 1, 4, 7),\n",
       " (6, 7, 5, 6),\n",
       " (4, 1, 5, 6),\n",
       " (4, 1, 5, 6),\n",
       " (4, 1, 2, 7),\n",
       " (3, 2, 5, 3),\n",
       " (1, 1, 1, 1),\n",
       " (2, 2, 1, 1),\n",
       " (5, 3, 15, 3),\n",
       " (3, 1, 16, 5),\n",
       " (1, 1, 16, 5),\n",
       " (1, 1, 16, 5),\n",
       " (1, 1, 15, 3),\n",
       " (4, 1, 2, 3),\n",
       " (1, 2, 2, 14),\n",
       " (1, 1, 5, 6),\n",
       " (2, 1, 5, 1),\n",
       " (18, 2, 2, 1),\n",
       " (15, 1, 13, 3),\n",
       " (18, 4, 3, 8),\n",
       " (3, 1, 8, 7),\n",
       " (3, 1, 6, 7),\n",
       " (1, 1, 8, 7),\n",
       " (3, 1, 15, 14),\n",
       " (4, 1, 2, 1),\n",
       " (3, 2, 2, 1),\n",
       " (3, 9, 13, 3),\n",
       " (18, 4, 3, 8),\n",
       " (3, 1, 3, 8),\n",
       " (3, 7, 15, 3),\n",
       " (1, 2, 2, 5),\n",
       " (39, 13, 13, 5),\n",
       " (18, 4, 5, 5),\n",
       " (18, 2, 3, 8),\n",
       " (3, 1, 2, 1),\n",
       " (18, 10, 2, 8),\n",
       " (3, 1, 2, 1),\n",
       " (3, 2, 2, 3),\n",
       " (1, 1, 2, 1),\n",
       " (3, 2, 2, 14),\n",
       " (1, 2, 2, 1),\n",
       " (3, 1, 15, 7),\n",
       " (1, 4, 13, 1),\n",
       " (18, 1, 3, 8),\n",
       " (3, 1, 8, 14),\n",
       " (7, 1, 5, 3),\n",
       " (2, 2, 2, 14),\n",
       " (1, 1, 8, 7),\n",
       " (3, 1, 6, 7),\n",
       " (1, 2, 5, 6),\n",
       " (2, 1, 6, 14),\n",
       " (1, 1, 8, 7),\n",
       " (3, 1, 12, 7),\n",
       " (22, 2, 9, 11),\n",
       " (5, 1, 12, 7),\n",
       " (22, 2, 9, 11),\n",
       " (5, 2, 5, 14),\n",
       " (13, 1, 5, 6),\n",
       " (5, 1, 5, 6),\n",
       " (5, 1, 5, 6),\n",
       " (5, 1, 2, 8),\n",
       " (7, 1, 15, 5),\n",
       " (4, 1, 2, 8),\n",
       " (3, 1, 2, 3),\n",
       " (1, 1, 5, 3),\n",
       " (2, 2, 2, 14),\n",
       " (7, 1, 5, 1),\n",
       " (5, 2, 8, 7),\n",
       " (3, 1, 5, 3),\n",
       " (2, 2, 2, 14),\n",
       " (1, 1, 2, 7),\n",
       " (3, 2, 8, 1),\n",
       " (3, 1, 6, 3),\n",
       " (8, 2, 2, 3),\n",
       " (1, 1, 2, 3),\n",
       " (1, 2, 2, 3),\n",
       " (1, 9, 1, 8),\n",
       " (3, 4, 15, 12),\n",
       " (1, 1, 15, 12),\n",
       " (1, 1, 15, 12),\n",
       " (1, 1, 6, 11),\n",
       " (1, 1, 6, 6),\n",
       " (4, 4, 5, 11),\n",
       " (1, 9, 1, 21),\n",
       " (1, 2, 2, 10),\n",
       " (6, 2, 6, 11),\n",
       " (1, 1, 8, 1),\n",
       " (18, 1, 2, 14),\n",
       " (3, 1, 9, 5),\n",
       " (4, 1, 2, 3),\n",
       " (3, 2, 4, 7),\n",
       " (5, 1, 5, 14),\n",
       " ...]"
      ]
     },
     "execution_count": 13,
     "metadata": {},
     "output_type": "execute_result"
    }
   ],
   "source": [
    "map(tuple, ytrain)"
   ]
  },
  {
   "cell_type": "code",
   "execution_count": 14,
   "metadata": {
    "collapsed": false
   },
   "outputs": [
    {
     "name": "stdout",
     "output_type": "stream",
     "text": [
      "(16633,)\n",
      "(2172,)\n",
      "(1968,)\n"
     ]
    }
   ],
   "source": [
    "from ordered_set import OrderedSet\n",
    "# Convert ytrainTree into a list of indices of occurring harmonizations.\n",
    "harmonizations = {}\n",
    "counter = 1\n",
    "\n",
    "ytraintups, ydevtups, ytesttups = map(tuple, ytrain), map(tuple, ydev), map(tuple, ytest)\n",
    "yalltups = ytraintups + ydevtups + ytesttups\n",
    "yunique = list(OrderedSet(yalltups))\n",
    "tounique = lambda x: yunique.index(x) + 1\n",
    "ytrainunique, ydevunique, ytestunique = map(tounique, ytraintups), map(tounique, ydevtups), map(tounique, ytesttups)\n",
    "ytrainunique, ydevunique, ytestunique = numpy.array(ytrainunique), numpy.array(ydevunique), numpy.array(ytestunique)\n",
    "\n",
    "with h5py.File('data/chorales_sm.hdf5', \"w\", libver='latest') as f:\n",
    "    f.create_dataset('ytrainunique', ytrainunique.shape, dtype=\"i\", data=ytrainunique)\n",
    "    f.create_dataset('ydevunique', ydevunique.shape, dtype=\"i\", data=ydevunique)\n",
    "    f.create_dataset('ytestunique', ytestunique.shape, dtype=\"i\", data=ytestunique)\n",
    "\n",
    "print ytrainunique.shape\n",
    "print ydevunique.shape\n",
    "print ytestunique.shape"
   ]
  },
  {
   "cell_type": "code",
   "execution_count": 26,
   "metadata": {
    "collapsed": false
   },
   "outputs": [],
   "source": [
    "Xtestvetted = []\n",
    "ytestvetted = []\n",
    "for idx, x in enumerate(ytestunique):\n",
    "    if x in ytrainunique:\n",
    "        Xtestvetted.append(Xtest[idx])\n",
    "        ytestvetted.append(x)\n",
    "Xtestvetted = numpy.matrix(Xtestvetted)\n",
    "ytestvetted = numpy.array(ytestvetted)"
   ]
  },
  {
   "cell_type": "code",
   "execution_count": 27,
   "metadata": {
    "collapsed": false
   },
   "outputs": [],
   "source": [
    "logistic = linear_model.LogisticRegression(multi_class='multinomial', solver='lbfgs', C=1000)\n",
    "encoder = OneHotEncoder()\n",
    "encoder.fit(Xall[:, range(0, 10)])\n",
    "Xtrainsparse = encoder.transform(Xtrain[:, range(0,10)])\n",
    "Xtestsparse = encoder.transform(Xtestvetted[:, range(0,10)])"
   ]
  },
  {
   "cell_type": "code",
   "execution_count": 28,
   "metadata": {
    "collapsed": false
   },
   "outputs": [
    {
     "data": {
      "text/plain": [
       "LogisticRegression(C=1000, class_weight=None, dual=False, fit_intercept=True,\n",
       "          intercept_scaling=1, max_iter=100, multi_class='multinomial',\n",
       "          penalty='l2', random_state=None, solver='lbfgs', tol=0.0001,\n",
       "          verbose=0)"
      ]
     },
     "execution_count": 28,
     "metadata": {},
     "output_type": "execute_result"
    }
   ],
   "source": [
    "logistic.fit(Xtrainsparse, ytrainunique)"
   ]
  },
  {
   "cell_type": "code",
   "execution_count": 29,
   "metadata": {
    "collapsed": false
   },
   "outputs": [
    {
     "data": {
      "text/plain": [
       "0.81103829736066857"
      ]
     },
     "execution_count": 29,
     "metadata": {},
     "output_type": "execute_result"
    }
   ],
   "source": [
    "logistic.score(Xtrainsparse, ytrainunique)"
   ]
  },
  {
   "cell_type": "code",
   "execution_count": 32,
   "metadata": {
    "collapsed": false
   },
   "outputs": [
    {
     "data": {
      "text/plain": [
       "0.21741815935762818"
      ]
     },
     "execution_count": 32,
     "metadata": {},
     "output_type": "execute_result"
    }
   ],
   "source": [
    "logistic.score(Xtestsparse, ytestvetted)"
   ]
  },
  {
   "cell_type": "code",
   "execution_count": 33,
   "metadata": {
    "collapsed": false
   },
   "outputs": [
    {
     "data": {
      "text/plain": [
       "0.17886178861788618"
      ]
     },
     "execution_count": 33,
     "metadata": {},
     "output_type": "execute_result"
    }
   ],
   "source": [
    "Xtestsparseorig = encoder.transform(Xtest[:, range(0,10)])\n",
    "logistic.score(Xtestsparseorig, ytestunique)"
   ]
  },
  {
   "cell_type": "code",
   "execution_count": 113,
   "metadata": {
    "collapsed": false,
    "scrolled": true
   },
   "outputs": [
    {
     "data": {
      "text/plain": [
       "Counter({1: 2,\n",
       "         6: 8,\n",
       "         7: 1,\n",
       "         13: 13,\n",
       "         14: 15,\n",
       "         15: 1,\n",
       "         17: 4,\n",
       "         18: 1,\n",
       "         22: 35,\n",
       "         23: 1,\n",
       "         26: 4,\n",
       "         31: 3,\n",
       "         32: 6,\n",
       "         36: 4,\n",
       "         37: 14,\n",
       "         38: 6,\n",
       "         39: 5,\n",
       "         40: 1,\n",
       "         43: 2,\n",
       "         46: 4,\n",
       "         47: 2,\n",
       "         48: 8,\n",
       "         56: 1,\n",
       "         57: 3,\n",
       "         58: 23,\n",
       "         59: 1,\n",
       "         60: 8,\n",
       "         67: 5,\n",
       "         69: 1,\n",
       "         70: 2,\n",
       "         73: 4,\n",
       "         78: 8,\n",
       "         79: 10,\n",
       "         81: 1,\n",
       "         88: 41,\n",
       "         96: 3,\n",
       "         97: 36,\n",
       "         98: 19,\n",
       "         100: 34,\n",
       "         101: 2,\n",
       "         102: 2,\n",
       "         103: 4,\n",
       "         106: 17,\n",
       "         108: 6,\n",
       "         110: 2,\n",
       "         113: 5,\n",
       "         118: 3,\n",
       "         119: 1,\n",
       "         122: 18,\n",
       "         123: 4,\n",
       "         124: 55,\n",
       "         125: 14,\n",
       "         130: 3,\n",
       "         131: 5,\n",
       "         132: 3,\n",
       "         133: 1,\n",
       "         136: 1,\n",
       "         137: 1,\n",
       "         143: 1,\n",
       "         144: 12,\n",
       "         155: 8,\n",
       "         157: 26,\n",
       "         158: 3,\n",
       "         159: 2,\n",
       "         162: 2,\n",
       "         163: 2,\n",
       "         164: 3,\n",
       "         165: 2,\n",
       "         166: 23,\n",
       "         167: 6,\n",
       "         168: 4,\n",
       "         176: 2,\n",
       "         179: 6,\n",
       "         182: 4,\n",
       "         184: 1,\n",
       "         185: 1,\n",
       "         187: 4,\n",
       "         197: 4,\n",
       "         205: 11,\n",
       "         208: 1,\n",
       "         210: 5,\n",
       "         219: 31,\n",
       "         223: 4,\n",
       "         224: 4,\n",
       "         232: 2,\n",
       "         234: 8,\n",
       "         240: 5,\n",
       "         242: 6,\n",
       "         246: 7,\n",
       "         247: 3,\n",
       "         248: 6,\n",
       "         249: 12,\n",
       "         250: 37,\n",
       "         251: 1,\n",
       "         257: 16,\n",
       "         262: 2,\n",
       "         266: 9,\n",
       "         286: 2,\n",
       "         287: 2,\n",
       "         293: 1,\n",
       "         294: 28,\n",
       "         295: 14,\n",
       "         296: 6,\n",
       "         297: 1,\n",
       "         298: 6,\n",
       "         301: 1,\n",
       "         302: 1,\n",
       "         303: 18,\n",
       "         305: 7,\n",
       "         306: 2,\n",
       "         309: 2,\n",
       "         317: 2,\n",
       "         323: 9,\n",
       "         324: 1,\n",
       "         325: 6,\n",
       "         331: 1,\n",
       "         335: 7,\n",
       "         340: 2,\n",
       "         345: 5,\n",
       "         367: 2,\n",
       "         371: 4,\n",
       "         378: 4,\n",
       "         379: 2,\n",
       "         389: 1,\n",
       "         404: 6,\n",
       "         420: 2,\n",
       "         439: 1,\n",
       "         474: 1,\n",
       "         476: 1,\n",
       "         477: 3,\n",
       "         498: 1,\n",
       "         506: 7,\n",
       "         519: 15,\n",
       "         520: 3,\n",
       "         526: 2,\n",
       "         533: 1,\n",
       "         541: 4,\n",
       "         544: 1,\n",
       "         545: 6,\n",
       "         549: 5,\n",
       "         553: 4,\n",
       "         554: 2,\n",
       "         555: 5,\n",
       "         556: 1,\n",
       "         559: 11,\n",
       "         560: 1,\n",
       "         561: 2,\n",
       "         562: 9,\n",
       "         563: 24,\n",
       "         564: 1,\n",
       "         565: 1,\n",
       "         574: 15,\n",
       "         576: 1,\n",
       "         581: 1,\n",
       "         582: 3,\n",
       "         584: 10,\n",
       "         586: 1,\n",
       "         587: 2,\n",
       "         589: 9,\n",
       "         591: 9,\n",
       "         593: 1,\n",
       "         594: 1,\n",
       "         595: 14,\n",
       "         596: 3,\n",
       "         604: 11,\n",
       "         608: 3,\n",
       "         609: 7,\n",
       "         618: 1,\n",
       "         620: 2,\n",
       "         622: 2,\n",
       "         625: 1,\n",
       "         626: 4,\n",
       "         646: 1,\n",
       "         647: 1,\n",
       "         650: 2,\n",
       "         662: 1,\n",
       "         666: 3,\n",
       "         668: 6,\n",
       "         680: 7,\n",
       "         681: 8,\n",
       "         682: 3,\n",
       "         691: 10,\n",
       "         700: 4,\n",
       "         715: 8,\n",
       "         723: 25,\n",
       "         724: 1,\n",
       "         735: 1,\n",
       "         737: 1,\n",
       "         738: 1,\n",
       "         739: 7,\n",
       "         745: 1,\n",
       "         746: 1,\n",
       "         749: 1,\n",
       "         753: 4,\n",
       "         755: 1,\n",
       "         757: 6,\n",
       "         764: 1,\n",
       "         767: 2,\n",
       "         769: 1,\n",
       "         777: 2,\n",
       "         783: 4,\n",
       "         784: 3,\n",
       "         795: 1,\n",
       "         799: 2,\n",
       "         816: 4,\n",
       "         817: 1,\n",
       "         819: 2,\n",
       "         820: 1,\n",
       "         821: 12,\n",
       "         822: 2,\n",
       "         823: 5,\n",
       "         831: 3,\n",
       "         834: 1,\n",
       "         836: 5,\n",
       "         842: 3,\n",
       "         849: 2,\n",
       "         851: 2,\n",
       "         854: 6,\n",
       "         859: 19,\n",
       "         860: 2,\n",
       "         861: 2,\n",
       "         865: 2,\n",
       "         873: 13,\n",
       "         874: 3,\n",
       "         887: 1,\n",
       "         898: 3,\n",
       "         899: 2,\n",
       "         904: 6,\n",
       "         906: 2,\n",
       "         908: 7,\n",
       "         911: 5,\n",
       "         912: 4,\n",
       "         918: 1,\n",
       "         932: 1,\n",
       "         936: 1,\n",
       "         940: 1,\n",
       "         943: 2,\n",
       "         951: 1,\n",
       "         952: 2,\n",
       "         956: 3,\n",
       "         972: 1,\n",
       "         975: 1,\n",
       "         1006: 7,\n",
       "         1008: 1,\n",
       "         1011: 4,\n",
       "         1016: 1,\n",
       "         1017: 1,\n",
       "         1020: 2,\n",
       "         1022: 2,\n",
       "         1028: 2,\n",
       "         1031: 2,\n",
       "         1038: 3,\n",
       "         1041: 4,\n",
       "         1046: 2,\n",
       "         1051: 1,\n",
       "         1053: 5,\n",
       "         1056: 3,\n",
       "         1057: 1,\n",
       "         1066: 6,\n",
       "         1072: 1,\n",
       "         1075: 2,\n",
       "         1080: 1,\n",
       "         1083: 1,\n",
       "         1093: 1,\n",
       "         1094: 2,\n",
       "         1096: 4,\n",
       "         1097: 2,\n",
       "         1098: 2,\n",
       "         1099: 1,\n",
       "         1106: 1,\n",
       "         1117: 1,\n",
       "         1121: 7,\n",
       "         1122: 1,\n",
       "         1125: 6,\n",
       "         1130: 7,\n",
       "         1143: 4,\n",
       "         1144: 1,\n",
       "         1149: 3,\n",
       "         1151: 1,\n",
       "         1160: 2,\n",
       "         1163: 6,\n",
       "         1189: 2,\n",
       "         1200: 1,\n",
       "         1204: 1,\n",
       "         1207: 3,\n",
       "         1234: 3,\n",
       "         1235: 2,\n",
       "         1236: 1,\n",
       "         1237: 1,\n",
       "         1250: 2,\n",
       "         1253: 1,\n",
       "         1254: 2,\n",
       "         1261: 4,\n",
       "         1277: 1,\n",
       "         1279: 2,\n",
       "         1289: 1,\n",
       "         1292: 4,\n",
       "         1309: 4,\n",
       "         1331: 2,\n",
       "         1335: 6,\n",
       "         1336: 1,\n",
       "         1344: 6,\n",
       "         1345: 12,\n",
       "         1347: 1,\n",
       "         1352: 2,\n",
       "         1353: 3,\n",
       "         1358: 4,\n",
       "         1368: 2,\n",
       "         1371: 1,\n",
       "         1382: 3,\n",
       "         1389: 3,\n",
       "         1392: 1,\n",
       "         1404: 1,\n",
       "         1410: 7,\n",
       "         1415: 1,\n",
       "         1416: 1,\n",
       "         1422: 1,\n",
       "         1430: 1,\n",
       "         1431: 2,\n",
       "         1435: 1,\n",
       "         1453: 1,\n",
       "         1489: 1,\n",
       "         1501: 2,\n",
       "         1502: 9,\n",
       "         1503: 2,\n",
       "         1504: 10,\n",
       "         1509: 4,\n",
       "         1515: 2,\n",
       "         1538: 3,\n",
       "         1542: 1,\n",
       "         1544: 2,\n",
       "         1545: 3,\n",
       "         1546: 4,\n",
       "         1547: 2,\n",
       "         1548: 2,\n",
       "         1549: 1,\n",
       "         1550: 11,\n",
       "         1552: 8,\n",
       "         1561: 4,\n",
       "         1563: 2,\n",
       "         1564: 4,\n",
       "         1565: 2,\n",
       "         1568: 1,\n",
       "         1582: 2,\n",
       "         1585: 6,\n",
       "         1589: 3,\n",
       "         1598: 1,\n",
       "         1601: 5,\n",
       "         1605: 1,\n",
       "         1607: 1,\n",
       "         1629: 2,\n",
       "         1635: 1,\n",
       "         1649: 1,\n",
       "         1659: 2,\n",
       "         1660: 1,\n",
       "         1663: 1,\n",
       "         1674: 1,\n",
       "         1678: 2,\n",
       "         1704: 5,\n",
       "         1706: 7,\n",
       "         1707: 1,\n",
       "         1716: 2,\n",
       "         1721: 1,\n",
       "         1729: 2,\n",
       "         1730: 1,\n",
       "         1733: 1,\n",
       "         1736: 1,\n",
       "         1738: 3,\n",
       "         1741: 5,\n",
       "         1747: 5,\n",
       "         1757: 5,\n",
       "         1766: 1,\n",
       "         1774: 1,\n",
       "         1777: 3,\n",
       "         1785: 1,\n",
       "         1792: 1,\n",
       "         1805: 1,\n",
       "         1817: 1,\n",
       "         1821: 2,\n",
       "         1829: 3,\n",
       "         1830: 3,\n",
       "         1854: 2,\n",
       "         1861: 1,\n",
       "         1864: 1,\n",
       "         1902: 1,\n",
       "         1904: 4,\n",
       "         1906: 1,\n",
       "         1909: 7,\n",
       "         1910: 2,\n",
       "         1912: 1,\n",
       "         1921: 2,\n",
       "         1922: 1,\n",
       "         1954: 3,\n",
       "         1957: 2,\n",
       "         1960: 2,\n",
       "         1961: 1,\n",
       "         1970: 7,\n",
       "         2006: 3,\n",
       "         2131: 3,\n",
       "         2133: 1,\n",
       "         2138: 4,\n",
       "         2147: 1,\n",
       "         2160: 1,\n",
       "         2173: 2,\n",
       "         2251: 1,\n",
       "         2256: 8,\n",
       "         2265: 1,\n",
       "         2273: 3,\n",
       "         2276: 4,\n",
       "         2285: 3,\n",
       "         2290: 3,\n",
       "         2304: 3,\n",
       "         2305: 3,\n",
       "         2308: 5,\n",
       "         2310: 3,\n",
       "         2353: 1,\n",
       "         2354: 1,\n",
       "         2408: 2,\n",
       "         2440: 1,\n",
       "         2458: 1,\n",
       "         2459: 1,\n",
       "         2467: 1,\n",
       "         2471: 1,\n",
       "         2484: 1,\n",
       "         2485: 2,\n",
       "         2519: 2,\n",
       "         2528: 2,\n",
       "         2544: 1,\n",
       "         2545: 1,\n",
       "         2551: 1,\n",
       "         2558: 1,\n",
       "         2560: 1,\n",
       "         2595: 1,\n",
       "         2641: 1,\n",
       "         2672: 1,\n",
       "         2709: 16,\n",
       "         2746: 2,\n",
       "         2775: 1,\n",
       "         2785: 1,\n",
       "         2790: 1,\n",
       "         2827: 2,\n",
       "         2845: 2,\n",
       "         2865: 2,\n",
       "         2888: 1,\n",
       "         2900: 1,\n",
       "         2948: 3,\n",
       "         2964: 2,\n",
       "         2983: 2,\n",
       "         3020: 1,\n",
       "         3023: 2,\n",
       "         3046: 2,\n",
       "         3048: 2,\n",
       "         3049: 4,\n",
       "         3061: 7,\n",
       "         3068: 1,\n",
       "         3091: 3,\n",
       "         3093: 2,\n",
       "         3101: 3,\n",
       "         3131: 2,\n",
       "         3132: 3,\n",
       "         3137: 1,\n",
       "         3143: 1,\n",
       "         3157: 1,\n",
       "         3186: 2,\n",
       "         3191: 5,\n",
       "         3324: 2,\n",
       "         3358: 1,\n",
       "         3359: 1,\n",
       "         3360: 1,\n",
       "         3363: 1,\n",
       "         3409: 2,\n",
       "         3597: 2,\n",
       "         3668: 1,\n",
       "         3908: 1,\n",
       "         4212: 3,\n",
       "         4217: 1,\n",
       "         4218: 2,\n",
       "         4221: 1,\n",
       "         4244: 1})"
      ]
     },
     "execution_count": 113,
     "metadata": {},
     "output_type": "execute_result"
    }
   ],
   "source": [
    "Counter(logistic.predict(Xtestsparse))"
   ]
  },
  {
   "cell_type": "code",
   "execution_count": 91,
   "metadata": {
    "collapsed": true
   },
   "outputs": [],
   "source": [
    "%matplotlib inline\n",
    "import numpy as np\n",
    "import scipy as sp\n",
    "import matplotlib as mpl\n",
    "import matplotlib.cm as cm\n",
    "import matplotlib.pyplot as plt\n",
    "\n",
    "def plotNLLandConfidence(filename):\n",
    "    with open(filename, 'r') as f:\n",
    "        lines = f.readlines()\n",
    "    formatted = map(lambda x: x[:-2] if '\\t\\n' in x else x[:-1], lines)\n",
    "    formatted = [map(float, x.split('\\t')) for x in formatted]\n",
    "    nll = [x[0] for x in formatted]\n",
    "    per = [x[1] for x in formatted]\n",
    "    fig, ax = plt.subplots(1, 2, figsize=(10,5))\n",
    "    fig.tight_layout()\n",
    "    ax[0].hist(per)\n",
    "    ax[0].set_xlabel(\"Probability assigned to the correct decision\")\n",
    "    ax[1].hist(nll)\n",
    "    ax[1].set_xlabel(\"NLL of the parameters given each outcome in the test set\")\n",
    "    plt.show()"
   ]
  },
  {
   "cell_type": "code",
   "execution_count": 92,
   "metadata": {
    "collapsed": false
   },
   "outputs": [
    {
     "data": {
      "image/png": "[encoded data removed]",
      "text/plain": [
       "<matplotlib.figure.Figure at 0x11a462ad0>"
      ]
     },
     "metadata": {},
     "output_type": "display_data"
    }
   ],
   "source": [
    "plotNLLandConfidence(\"smerror.txt\")"
   ]
  },
  {
   "cell_type": "code",
   "execution_count": 94,
   "metadata": {
    "collapsed": false
   },
   "outputs": [
    {
     "data": {
      "image/png": "[encoded data removed]",
      "text/plain": [
       "<matplotlib.figure.Figure at 0x11a5a6c10>"
      ]
     },
     "metadata": {},
     "output_type": "display_data"
    }
   ],
   "source": [
    "plotNLLandConfidence(\"smerror_train.txt\")"
   ]
  }
 ],
 "metadata": {
  "kernelspec": {
   "display_name": "Python 2",
   "language": "python",
   "name": "python2"
  },
  "language_info": {
   "codemirror_mode": {
    "name": "ipython",
    "version": 2
   },
   "file_extension": ".py",
   "mimetype": "text/x-python",
   "name": "python",
   "nbconvert_exporter": "python",
   "pygments_lexer": "ipython2",
   "version": "2.7.10"
  }
 },
 "nbformat": 4,
 "nbformat_minor": 0
}
