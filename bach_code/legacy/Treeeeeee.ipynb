{
 "cells": [
  {
   "cell_type": "markdown",
   "metadata": {},
   "source": [
    "# Softmax Tree"
   ]
  },
  {
   "cell_type": "code",
   "execution_count": 22,
   "metadata": {
    "collapsed": true
   },
   "outputs": [],
   "source": [
    "import h5py\n",
    "import numpy as np"
   ]
  },
  {
   "cell_type": "code",
   "execution_count": 48,
   "metadata": {
    "collapsed": false
   },
   "outputs": [],
   "source": [
    "with h5py.File('data/chorales.hdf5', \"r\", libver='latest') as f:\n",
    "    Xtrain = f['Xtrain'].value\n",
    "    ytrain = f['ytrain'].value\n",
    "    Xdev = f['Xdev'].value\n",
    "    ydev = f['ydev'].value\n",
    "    Xtest = f['Xtest'].value\n",
    "    ytest = f['ytest'].value\n",
    "\n",
    "COUNTER = 1\n",
    "    \n",
    "# Insert into a tree\n",
    "def insert(elements, tree, max_level_size, node=1):\n",
    "    global COUNTER\n",
    "    el = elements.pop(0)\n",
    "    if node not in tree:\n",
    "        tree[node] = []\n",
    "    if tree[node][el - 1] != 0:\n",
    "        node = tree[node][el - 1]\n",
    "    else:\n",
    "        COUNTER += 1\n",
    "        tree[node][el - 1] = COUNTER\n",
    "        node = COUNTER\n",
    "    if len(elements) > 0:\n",
    "        insert(elements, tree, max_level_size, node)"
   ]
  },
  {
   "cell_type": "code",
   "execution_count": 49,
   "metadata": {
    "collapsed": false
   },
   "outputs": [],
   "source": [
    "t = {}\n",
    "yall = np.vstack((ytrain, ydev, ytest))\n",
    "mls = max([max(yall[:, i]) for i in range(5)])\n",
    "COUNTER = 1\n",
    "for ex in ytrain[:10]:\n",
    "    if all(x < 5 for x in list(ex)):\n",
    "        insert(list(ex), t, mls)"
   ]
  },
  {
   "cell_type": "code",
   "execution_count": 61,
   "metadata": {
    "collapsed": false
   },
   "outputs": [
    {
     "name": "stdout",
     "output_type": "stream",
     "text": [
      "None\n",
      "[1 1 1 3 4]\n"
     ]
    }
   ],
   "source": [
    "def lookup(ex, tree, node=1):\n",
    "    if node not in tree:\n",
    "        return False\n",
    "    if tree[node][ex[0] - 1] == 0:\n",
    "        return False\n",
    "    if len(ex) == 1:\n",
    "        return True\n",
    "    node = tree[node][ex[0] - 1]\n",
    "    ex.pop(0)\n",
    "    lookup(ex, tree, node)\n",
    "\n",
    "print lookup(list(ytrain[0]), t)"
   ]
  },
  {
   "cell_type": "code",
   "execution_count": null,
   "metadata": {
    "collapsed": true
   },
   "outputs": [],
   "source": []
  }
 ],
 "metadata": {
  "kernelspec": {
   "display_name": "Python 2",
   "language": "python",
   "name": "python2"
  },
  "language_info": {
   "codemirror_mode": {
    "name": "ipython",
    "version": 2
   },
   "file_extension": ".py",
   "mimetype": "text/x-python",
   "name": "python",
   "nbconvert_exporter": "python",
   "pygments_lexer": "ipython2",
   "version": "2.7.10"
  }
 },
 "nbformat": 4,
 "nbformat_minor": 0
}
