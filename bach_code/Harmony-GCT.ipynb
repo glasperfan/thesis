{
 "cells": [
  {
   "cell_type": "code",
   "execution_count": 216,
   "metadata": {
    "collapsed": false
   },
   "outputs": [],
   "source": [
    "from music21 import *\n",
    "from random import choice as rand_choice"
   ]
  },
  {
   "cell_type": "code",
   "execution_count": 384,
   "metadata": {
    "collapsed": false
   },
   "outputs": [],
   "source": [
    "def dfs(row, consonance, subsets, recurse=False, prev=[]):\n",
    "    # single element\n",
    "    if len(row) < 2 and consonance[0]:\n",
    "        if not recurse:\n",
    "            subsets.append([row[0]])\n",
    "        return [row[0]]\n",
    "    # consonant pair\n",
    "    subset = prev + [row[0]]\n",
    "    for idx, el in enumerate(row[1:]):\n",
    "        if consonance[el - row[0]]:\n",
    "            subset += dfs(row[idx + 1:], consonance, subsets, True, subset)\n",
    "    subsets.append(subset)\n",
    "    return []\n",
    "\n",
    "def find_consonant_subsets(pcs, consonance):\n",
    "    subsets = []\n",
    "    for idx in range(len(pcs)):\n",
    "        row = pcs[idx:]\n",
    "        dfs(row, consonance, subsets) # dfs fills subsets\n",
    "    return subsets\n",
    "\n",
    "def chord_to_intervals(ch):\n",
    "    intervals = []\n",
    "    for i in range(len(ch) - 1):\n",
    "        intervals.append(ch[i + 1] - ch[i])\n",
    "    return intervals\n",
    "\n",
    "MAJOR = [0,4,7]\n",
    "MINOR = [0,3,7]\n",
    "DOMINANT = [0,4,7,10]\n",
    "\n",
    "# If it's a major or minor triad, rotate the pcset to root position\n",
    "def rotatetomode(pcs):\n",
    "    all_rotations = [pcs[i:] + pcs[:i] for i in range(len(pcs))]\n",
    "    for rotation in all_rotations:\n",
    "        rooted = [(x - rotation[0]) % 12 for x in rotation]\n",
    "        if rooted == MAJOR or rooted == MINOR or rooted == DOMINANT:\n",
    "            return rotation\n",
    "    return pcs\n",
    "\n",
    "# Add non-base pcs as extensions\n",
    "def addextensions(base, allpcs):\n",
    "    extensionpcs = list(set(allpcs) - set(base))\n",
    "    return base + [x + 12 for x in extensionpcs]\n",
    "\n",
    "# Additional steps for GCT to ensure unique encodings\n",
    "def optimalchoice(choices):\n",
    "    # Dyads: select 5th over 4th, 7th over 2nd\n",
    "    if len(choices[0][1]) == 2:\n",
    "        for choice in choices:\n",
    "            if sum(choice[1]) > 6: # 6 semitones\n",
    "                return choice\n",
    "    for choice in choices:\n",
    "        # Select dominant chords with the correct root\n",
    "        if choice[1] == DOMINANT:\n",
    "            return choice\n",
    "    # Prefer chords with intervals larger than major 2nd (i.e. to select minor 7ths or major chords with add 6th)\n",
    "    for choice in choices:\n",
    "        intervals = chord_to_intervals(choice[1])\n",
    "        if all(x > 2 for x in intervals):\n",
    "            return choice\n",
    "    return rand_choice(choices)"
   ]
  },
  {
   "cell_type": "code",
   "execution_count": 385,
   "metadata": {
    "collapsed": false
   },
   "outputs": [],
   "source": [
    "# GCT algorithm\n",
    "# t = tonic pitch class\n",
    "# v = binary consonance vector of length 12. v[i] denotes whether an interval of i semitones is consonant\n",
    "# c = music21.chord.Chord\n",
    "def GCT(t, v, c):\n",
    "    # Create pitch class set and remove duplicate pcs\n",
    "    pcset = list(set([x.midi % 12 for x in c.pitches])) \n",
    "    pcset.sort()\n",
    "    # Find consonant subsets using DFS\n",
    "    subsets = find_consonant_subsets(pcset, v)\n",
    "    # Sort by length and grab the longest ones\n",
    "    subsets.sort(key = len)\n",
    "    maxsubsets = [x for x in subsets if len(x) == len(subsets[-1])] \n",
    "    rotated = map(rotatetomode, maxsubsets)\n",
    "    # Special case: fully diminished chords\n",
    "    for i in range(len(rotated)):\n",
    "        ch = rotated[i]\n",
    "        if all(x == 3 for x in chord_to_intervals(ch)):\n",
    "            rotated += [ch[i:] + ch[:i] for i in range(len(ch))]\n",
    "    # Add extensions and select root\n",
    "    rotated = map(list, list(set(map(tuple,rotated))))\n",
    "    withextensions = [addextensions(x, pcset) for x in rotated]\n",
    "    withroot = [((x[0] - t) % 12, map(lambda e: (e - x[0]) % 12, x)) for x in withextensions]\n",
    "    print withroot\n",
    "    # Return the optimal choice to ensure unique encodings\n",
    "    return withroot[0] if len(withroot) == 1 else optimalchoice(withroot)"
   ]
  },
  {
   "cell_type": "code",
   "execution_count": 386,
   "metadata": {
    "collapsed": false
   },
   "outputs": [
    {
     "name": "stdout",
     "output_type": "stream",
     "text": [
      "[(7, [0, 4, 7, 10])]\n",
      "(7, [0, 4, 7, 10])\n",
      "[(5, [0, 4, 7, 9]), (2, [0, 3, 7, 10])]\n",
      "(2, [0, 3, 7, 10])\n",
      "[(11, [0, 3, 6, 9]), (8, [0, 3, 6, 9]), (5, [0, 3, 6, 9]), (2, [0, 3, 6, 9])]\n",
      "(11, [0, 3, 6, 9])\n"
     ]
    }
   ],
   "source": [
    "gmajor = 7\n",
    "cmajor = 0\n",
    "v = [1, 0, 0, 1, 1, 1, 0, 1, 1, 1, 0, 0] # Consonance vector\n",
    "c1 = chord.Chord([60, 62, 66, 69, 74])\n",
    "c2 = chord.Chord([50, 60, 62, 65, 69])\n",
    "c3 = chord.Chord([62, 68, 77, 71])\n",
    "print GCT(gmajor, v, c1)\n",
    "print GCT(cmajor, v, c2)\n",
    "print GCT(cmajor, v, c3)"
   ]
  },
  {
   "cell_type": "code",
   "execution_count": 387,
   "metadata": {
    "collapsed": false
   },
   "outputs": [
    {
     "name": "stdout",
     "output_type": "stream",
     "text": [
      "[(5, [0, 4, 7, 9]), (2, [0, 3, 7, 10])]\n",
      "(2, [0, 3, 7, 10])\n"
     ]
    }
   ],
   "source": [
    "c3 = chord.Chord([50, 60, 62, 65, 69])\n",
    "print GCT(cmajor, v, c3)"
   ]
  },
  {
   "cell_type": "code",
   "execution_count": 388,
   "metadata": {
    "collapsed": false
   },
   "outputs": [
    {
     "name": "stdout",
     "output_type": "stream",
     "text": [
      "[(0, [0, 4, 7])]\n",
      "(0, [0, 4, 7])\n",
      "[(11, [0, 3, 6]), (5, [0, 6, 9]), (2, [0, 3, 9])]\n",
      "(11, [0, 3, 6])\n",
      "[(0, [0, 4, 7])]\n",
      "(0, [0, 4, 7])\n",
      "[(2, [0, 3, 7])]\n",
      "(2, [0, 3, 7])\n",
      "[(11, [0, 3, 6, 8]), (5, [0, 6, 9, 2]), (7, [0, 4, 7, 10]), (2, [0, 3, 9, 5])]\n",
      "(7, [0, 4, 7, 10])\n",
      "[(0, [0, 4, 7])]\n",
      "(0, [0, 4, 7])\n"
     ]
    }
   ],
   "source": [
    "dmajor = 2\n",
    "c4 = chord.Chord(['F#3', 'D4', 'A4'])\n",
    "c5 = chord.Chord(['E3', 'G3', 'G4', 'C#5'])\n",
    "c6 = chord.Chord(['D3', 'A3', 'F#4', 'D4'])\n",
    "c7 = chord.Chord(['G3', 'B3', 'E4', 'E5'])\n",
    "c8 = chord.Chord(['A3', 'C#4', 'G4', 'E5'])\n",
    "c9 = chord.Chord(['D3', 'A3', 'F#4', 'D5'])\n",
    "print GCT(dmajor, v, c4)\n",
    "print GCT(dmajor, v, c5)\n",
    "print GCT(dmajor, v, c6)\n",
    "print GCT(dmajor, v, c7)\n",
    "print GCT(dmajor, v, c8)\n",
    "print GCT(dmajor, v, c9)"
   ]
  },
  {
   "cell_type": "code",
   "execution_count": 392,
   "metadata": {
    "collapsed": false
   },
   "outputs": [
    {
     "name": "stdout",
     "output_type": "stream",
     "text": [
      "[(0, [0, 7])]\n",
      "(0, [0, 7])\n",
      "[(2, [0, 10]), (0, [0, 2])]\n",
      "(2, [0, 10])\n",
      "[(2, [0])]\n",
      "(2, [0])\n",
      "[(3, [0, 9, 10, 11]), (0, [0, 3, 1, 2])]\n",
      "(3, [0, 9, 10, 11])\n"
     ]
    }
   ],
   "source": [
    "# Tough cases\n",
    "c10 = chord.Chord(['G3', 'C4', 'G4', 'C5']) # Should choose a fifth\n",
    "c11 = chord.Chord(['C3', 'D4'])\n",
    "c12 = chord.Chord(['D3', 'D4'])\n",
    "c13 = chord.Chord(['C4', 'C#4', 'D4', 'D#4'])\n",
    "print GCT(cmajor, v, c10) # Should choose a fifth [0,7]\n",
    "print GCT(cmajor, v, c11) # Should choose a minor seventh [0, 10]\n",
    "print GCT(cmajor, v, c12) # Should choose unison\n",
    "print GCT(cmajor, v, c13) # Should choose minor third with strange extensions"
   ]
  },
  {
   "cell_type": "code",
   "execution_count": null,
   "metadata": {
    "collapsed": true
   },
   "outputs": [],
   "source": []
  }
 ],
 "metadata": {
  "kernelspec": {
   "display_name": "Python 2",
   "language": "python",
   "name": "python2"
  },
  "language_info": {
   "codemirror_mode": {
    "name": "ipython",
    "version": 2
   },
   "file_extension": ".py",
   "mimetype": "text/x-python",
   "name": "python",
   "nbconvert_exporter": "python",
   "pygments_lexer": "ipython2",
   "version": "2.7.10"
  }
 },
 "nbformat": 4,
 "nbformat_minor": 0
}
